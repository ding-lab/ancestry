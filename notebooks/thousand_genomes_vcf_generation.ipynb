{
 "cells": [
  {
   "cell_type": "code",
   "execution_count": 7,
   "metadata": {},
   "outputs": [],
   "source": [
    "import os\n",
    "import re\n",
    "\n",
    "from pyliftover import LiftOver\n"
   ]
  },
  {
   "cell_type": "code",
   "execution_count": 2,
   "metadata": {},
   "outputs": [],
   "source": [
    "## convert hg19 vcf to hg38 vcf"
   ]
  },
  {
   "cell_type": "code",
   "execution_count": 3,
   "metadata": {},
   "outputs": [],
   "source": [
    "hg19_vcf = '/gscmnt/gc2508/dinglab/estorrs/ancestry/data/hg19/all.coding.sorted.02maf.snps.vcf'"
   ]
  },
  {
   "cell_type": "code",
   "execution_count": 4,
   "metadata": {},
   "outputs": [],
   "source": [
    "lo = LiftOver('hg19', 'hg38')"
   ]
  },
  {
   "cell_type": "code",
   "execution_count": 6,
   "metadata": {},
   "outputs": [],
   "source": [
    "def get_headerless_vcf_fobj(fp):\n",
    "    header = ''\n",
    "    f = open(fp)\n",
    "    for line in f:\n",
    "        if line[:7] == '#CHROM\\t':\n",
    "            header += line\n",
    "            return f, header\n",
    "        header += line\n",
    "    \n",
    "    return None"
   ]
  },
  {
   "cell_type": "code",
   "execution_count": 6,
   "metadata": {},
   "outputs": [
    {
     "data": {
      "text/plain": [
       "[('chr1', 1064620, '+', 20851231461)]"
      ]
     },
     "execution_count": 6,
     "metadata": {},
     "output_type": "execute_result"
    }
   ],
   "source": [
    "lo.convert_coordinate('chr1', 1000000)"
   ]
  },
  {
   "cell_type": "code",
   "execution_count": 7,
   "metadata": {},
   "outputs": [],
   "source": [
    "vcf_f_obj, header = get_headerless_vcf_fobj(hg19_vcf)"
   ]
  },
  {
   "cell_type": "code",
   "execution_count": 8,
   "metadata": {},
   "outputs": [
    {
     "name": "stdout",
     "output_type": "stream",
     "text": [
      "0\n",
      "5000\n",
      "10000\n",
      "15000\n",
      "20000\n",
      "25000\n",
      "30000\n",
      "35000\n",
      "40000\n",
      "45000\n",
      "50000\n",
      "55000\n",
      "60000\n",
      "65000\n",
      "70000\n",
      "75000\n",
      "80000\n",
      "85000\n",
      "90000\n",
      "95000\n",
      "100000\n",
      "105000\n",
      "110000\n",
      "115000\n",
      "120000\n",
      "125000\n",
      "130000\n",
      "135000\n"
     ]
    }
   ],
   "source": [
    "lines = []\n",
    "for i, line in enumerate(vcf_f_obj):\n",
    "    if i % 5000 == 0:\n",
    "        print(i)\n",
    "    chrom, pos, rest = line.split('\\t', 2)\n",
    "    \n",
    "    try:\n",
    "#     print(chrom, pos)\n",
    "        converted = lo.convert_coordinate('chr' + chrom, int(pos))[0]\n",
    "        new_line = converted[0] + '\\t' + str(converted[1]) + '\\t' + rest\n",
    "        lines.append(new_line)\n",
    "    except IndexError:\n",
    "        pass\n",
    "        "
   ]
  },
  {
   "cell_type": "code",
   "execution_count": 9,
   "metadata": {},
   "outputs": [],
   "source": [
    "hg38_vcf = '/gscmnt/gc2508/dinglab/estorrs/ancestry/data/hg38/all.coding.sorted.02maf.snps.vcf'"
   ]
  },
  {
   "cell_type": "code",
   "execution_count": 10,
   "metadata": {},
   "outputs": [],
   "source": [
    "f = open(hg38_vcf, 'w')\n",
    "f.write(header + ''.join(lines))\n",
    "f.close()"
   ]
  },
  {
   "cell_type": "markdown",
   "metadata": {},
   "source": [
    "## add chr to vcf"
   ]
  },
  {
   "cell_type": "code",
   "execution_count": 8,
   "metadata": {},
   "outputs": [],
   "source": [
    "hg19_vcf = '/gscmnt/gc2508/dinglab/estorrs/ancestry/data/hg19/all.coding.sorted.02maf.snps.vcf'\n",
    "# hg38_vcf = '/gscmnt/gc2508/dinglab/estorrs/ancestry/data/hg38/all.coding.sorted.02maf.snps.vcf'"
   ]
  },
  {
   "cell_type": "code",
   "execution_count": 9,
   "metadata": {},
   "outputs": [],
   "source": [
    "# chr_regex = re.compile(r'^(^chr)')\n",
    "\n",
    "def add_chr_to_lines(fobj):\n",
    "    lines = []\n",
    "    for line in fobj:\n",
    "        lines.append('chr' + line)\n",
    "    return lines\n",
    "\n",
    "def add_chr_to_vcf(vcf_fp):\n",
    "    f_obj, header = get_headerless_vcf_fobj(vcf_fp)\n",
    "    \n",
    "    header = re.sub(r'contig=<ID=([^>]+)>', r'contig=<ID=chr\\1>', header)\n",
    "    body = ''.join(add_chr_to_lines(f_obj))\n",
    "    \n",
    "    out_fp = vcf_fp.replace('.vcf', '.chr.vcf')\n",
    "    out_f = open(out_fp, 'w')\n",
    "    out_f.write(header + body)\n",
    "    out_f.close()\n",
    "    f_obj.close()"
   ]
  },
  {
   "cell_type": "code",
   "execution_count": 10,
   "metadata": {},
   "outputs": [],
   "source": [
    "add_chr_to_vcf(hg19_vcf)\n",
    "# add_chr_to_vcf(hg38_vcf)"
   ]
  },
  {
   "cell_type": "markdown",
   "metadata": {},
   "source": [
    "## bed generation"
   ]
  },
  {
   "cell_type": "code",
   "execution_count": 15,
   "metadata": {},
   "outputs": [],
   "source": [
    "hg19_vcf = '/gscmnt/gc2508/dinglab/estorrs/ancestry/data/hg19/all.coding.sorted.02maf.snps.vcf'\n",
    "# hg38_vcf = '/gscmnt/gc2508/dinglab/estorrs/ancestry/data/hg38/all.coding.sorted.02maf.snps.chr.vcf'\n",
    "\n"
   ]
  },
  {
   "cell_type": "code",
   "execution_count": 16,
   "metadata": {},
   "outputs": [],
   "source": [
    "hg19_bed = '/gscmnt/gc2508/dinglab/estorrs/ancestry/data/hg19/all.coding.sorted.02maf.snps.bed'\n",
    "# hg38_bed = '/gscmnt/gc2508/dinglab/estorrs/ancestry/data/hg38/all.coding.sorted.02maf.snps.chr.bed'\n",
    "\n",
    "\n",
    "\n"
   ]
  },
  {
   "cell_type": "code",
   "execution_count": 17,
   "metadata": {},
   "outputs": [],
   "source": [
    "def bed_from_vcf(vcf_fp, bed_fp):\n",
    "    f_obj, header = get_headerless_vcf_fobj(vcf_fp)\n",
    "    \n",
    "    positions = set()\n",
    "    for line in f_obj:\n",
    "        chrom, pos, _ = line.split('\\t', 2)\n",
    "\n",
    "        positions.add((chrom, int(pos)))\n",
    "    positions = sorted(list(positions))\n",
    "    \n",
    "    f_obj.close()\n",
    "    f = open(bed_fp, 'w')\n",
    "    for chrom, pos in positions:\n",
    "        f.write(f'{chrom}\\t{pos}\\t{pos}\\n')\n",
    "    f.close()"
   ]
  },
  {
   "cell_type": "code",
   "execution_count": 18,
   "metadata": {},
   "outputs": [],
   "source": [
    "bed_from_vcf(hg19_vcf, hg19_bed)\n",
    "# bed_from_vcf(hg38_vcf, hg38_bed)"
   ]
  },
  {
   "cell_type": "code",
   "execution_count": null,
   "metadata": {},
   "outputs": [],
   "source": []
  }
 ],
 "metadata": {
  "kernelspec": {
   "display_name": "Python 3",
   "language": "python",
   "name": "python3"
  },
  "language_info": {
   "codemirror_mode": {
    "name": "ipython",
    "version": 3
   },
   "file_extension": ".py",
   "mimetype": "text/x-python",
   "name": "python",
   "nbconvert_exporter": "python",
   "pygments_lexer": "ipython3",
   "version": "3.6.8"
  }
 },
 "nbformat": 4,
 "nbformat_minor": 2
}
