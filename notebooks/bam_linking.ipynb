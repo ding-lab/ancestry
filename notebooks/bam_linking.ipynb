{
 "cells": [
  {
   "cell_type": "code",
   "execution_count": 2,
   "metadata": {},
   "outputs": [],
   "source": [
    "import os\n",
    "import re\n"
   ]
  },
  {
   "cell_type": "code",
   "execution_count": 17,
   "metadata": {},
   "outputs": [],
   "source": [
    "# BAM_MAP_LOCATION = '/gscuser/estorrs/CPTAC3.catalog/MGI.BamMap.dat'\n",
    "# BAM_MAP_LOCATION = '/gscuser/estorrs/gbm.bobo.bammap.dat'\n",
    "BAM_MAP_LOCATION = '/gscuser/estorrs/cptac2.bam_locations.alla.tsv'\n",
    "\n",
    "EXECUTION_DIR = '/gscmnt/gc2508/dinglab/estorrs/cptac3/data/ov/hg19'"
   ]
  },
  {
   "cell_type": "code",
   "execution_count": 18,
   "metadata": {},
   "outputs": [
    {
     "data": {
      "text/plain": [
       "(102,\n",
       " [('01OV002',\n",
       "   {'technology': 'WXS',\n",
       "    'fp': '/gscmnt/gc2523/dinglab/cptac/exome_batch1-1/3_DN/analysis/3_DN.sorted.rmdup.bam'}),\n",
       "  ('01OV007',\n",
       "   {'technology': 'WXS',\n",
       "    'fp': '/gscmnt/gc2523/dinglab/cptac/exome_batch1-1/4_DN/analysis/4_DN.sorted.rmdup.bam'}),\n",
       "  ('01OV008',\n",
       "   {'technology': 'WXS',\n",
       "    'fp': '/gscmnt/gc2523/dinglab/cptac/exome_batch1-1/5_DN/analysis/5_DN.sorted.rmdup.bam'}),\n",
       "  ('01OV010',\n",
       "   {'technology': 'WXS',\n",
       "    'fp': '/gscmnt/gc2523/dinglab/cptac/exome_batch1-1/6_DN/analysis/6_DN.sorted.rmdup.bam'}),\n",
       "  ('01OV013',\n",
       "   {'technology': 'WXS',\n",
       "    'fp': '/gscmnt/gc2523/dinglab/cptac/exome_batch1-1/7_DN/analysis/7_DN.sorted.rmdup.bam'})])"
      ]
     },
     "execution_count": 18,
     "metadata": {},
     "output_type": "execute_result"
    }
   ],
   "source": [
    "f = open(BAM_MAP_LOCATION)\n",
    "sample_data = {}\n",
    "\n",
    "\n",
    "# identifiers = [r'WXS|WGS', 'hg38', 'BAM', r'tissue_normal|blood_normal', 'CCRCC']\n",
    "identifiers = [r'WXS|WGS', '.bam', 'DN', 'OV']\n",
    "# identifiers = ['blood_normal']\n",
    "\n",
    "\n",
    "# filter based on identifiers and get sample name and location\n",
    "for line in f:\n",
    "    is_valid = True\n",
    "    for identifier in identifiers:\n",
    "        if not re.findall(identifier, line):\n",
    "            is_valid = False\n",
    "            break\n",
    "\n",
    "    if is_valid:\n",
    "        pieces = line.strip().split('\\t')\n",
    "\n",
    "        sample = pieces[1]\n",
    "        technology = pieces[3]\n",
    "        fp = pieces[5]\n",
    "        \n",
    "        if sample in sample_data:\n",
    "            d = sample_data[sample]\n",
    "            if d['technology'].lower() != 'wxs' and technology.lower() == 'wxs':\n",
    "                sample_data[sample] = {'technology': technology, 'fp': fp}\n",
    "        else:\n",
    "            sample_data[sample] = {'technology': technology, 'fp': fp}\n",
    "len(sample_data), list(sample_data.items())[:5]"
   ]
  },
  {
   "cell_type": "code",
   "execution_count": 19,
   "metadata": {},
   "outputs": [
    {
     "data": {
      "text/plain": [
       "(102,\n",
       " [('01OV002',\n",
       "   '/gscmnt/gc2523/dinglab/cptac/exome_batch1-1/3_DN/analysis/3_DN.sorted.rmdup.bam'),\n",
       "  ('01OV007',\n",
       "   '/gscmnt/gc2523/dinglab/cptac/exome_batch1-1/4_DN/analysis/4_DN.sorted.rmdup.bam'),\n",
       "  ('01OV008',\n",
       "   '/gscmnt/gc2523/dinglab/cptac/exome_batch1-1/5_DN/analysis/5_DN.sorted.rmdup.bam'),\n",
       "  ('01OV010',\n",
       "   '/gscmnt/gc2523/dinglab/cptac/exome_batch1-1/6_DN/analysis/6_DN.sorted.rmdup.bam'),\n",
       "  ('01OV013',\n",
       "   '/gscmnt/gc2523/dinglab/cptac/exome_batch1-1/7_DN/analysis/7_DN.sorted.rmdup.bam')])"
      ]
     },
     "execution_count": 19,
     "metadata": {},
     "output_type": "execute_result"
    }
   ],
   "source": [
    "sample_fp_tups = [(k, d['fp']) for k, d in sample_data.items()]\n",
    "len(sample_fp_tups), sample_fp_tups[:5]"
   ]
  },
  {
   "cell_type": "code",
   "execution_count": 21,
   "metadata": {},
   "outputs": [],
   "source": [
    "# write sample to bam location file\n",
    "sample_to_bam_fp = os.path.join(EXECUTION_DIR, 'sample_to_bam.tsv')\n",
    "out_f = open(sample_to_bam_fp, 'w')\n",
    "for sample, fp in sample_fp_tups:\n",
    "    out_f.write(f'{sample}\\t{fp}\\n')\n",
    "out_f.close()"
   ]
  },
  {
   "cell_type": "code",
   "execution_count": 22,
   "metadata": {},
   "outputs": [],
   "source": [
    "os.mkdir(os.path.join(EXECUTION_DIR, 'bams'))"
   ]
  },
  {
   "cell_type": "code",
   "execution_count": 23,
   "metadata": {},
   "outputs": [],
   "source": [
    "# write softlink script\n",
    "softlink_script_fp = os.path.join(EXECUTION_DIR, 'symlink_bams.sh')\n",
    "output_bam_dir = os.path.join(EXECUTION_DIR, 'bams')\n",
    "out_f = open(softlink_script_fp, 'w')\n",
    "for sample, fp in sample_fp_tups:\n",
    "    out_f.write(f'ln -s {fp} {output_bam_dir}/{sample}.bam\\n')\n",
    "out_f.close()"
   ]
  },
  {
   "cell_type": "code",
   "execution_count": null,
   "metadata": {},
   "outputs": [],
   "source": []
  }
 ],
 "metadata": {
  "kernelspec": {
   "display_name": "Python 3",
   "language": "python",
   "name": "python3"
  },
  "language_info": {
   "codemirror_mode": {
    "name": "ipython",
    "version": 3
   },
   "file_extension": ".py",
   "mimetype": "text/x-python",
   "name": "python",
   "nbconvert_exporter": "python",
   "pygments_lexer": "ipython3",
   "version": "3.6.8"
  }
 },
 "nbformat": 4,
 "nbformat_minor": 2
}
