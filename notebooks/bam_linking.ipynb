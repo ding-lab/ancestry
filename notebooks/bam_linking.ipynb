{
 "cells": [
  {
   "cell_type": "code",
   "execution_count": 69,
   "metadata": {},
   "outputs": [],
   "source": [
    "import os\n",
    "import re\n",
    "\n",
    "import pandas as pd\n",
    "\n",
    "import mgitools.os_helpers as os_helpers"
   ]
  },
  {
   "cell_type": "code",
   "execution_count": 11,
   "metadata": {},
   "outputs": [],
   "source": [
    "# /gscmnt/gc3021/dinglab/yli/PKD/Analysis/1.germline/PKD_germline_final/"
   ]
  },
  {
   "cell_type": "code",
   "execution_count": 12,
   "metadata": {},
   "outputs": [],
   "source": [
    "# # BAM_MAP_LOCATION = '/gscuser/estorrs/CPTAC3.catalog/MGI.BamMap.dat'\n",
    "# # BAM_MAP_LOCATION = '/gscuser/estorrs/gbm.bobo.bammap.dat'\n",
    "# BAM_MAP_LOCATION = '/gscmnt/gc2508/dinglab/estorrs/ancestry_data/mmrf/sample_to_bam.tsv'\n",
    "\n",
    "# EXECUTION_DIR = '/gscmnt/gc2508/dinglab/estorrs/ancestry_data/mmrf/execution'"
   ]
  },
  {
   "cell_type": "code",
   "execution_count": 13,
   "metadata": {},
   "outputs": [],
   "source": [
    "# BAM_MAP_LOCATION = '/gscuser/estorrs/CPTAC3.catalog/BamMap/MGI.BamMap.dat'\n",
    "# EXECUTION_DIR = '/gscmnt/gc2508/dinglab/estorrs/ancestry/executions/cptac3_lscc'"
   ]
  },
  {
   "cell_type": "code",
   "execution_count": 36,
   "metadata": {},
   "outputs": [],
   "source": [
    "# BAM_MAP_LOCATION = '/gscmnt/gc2508/dinglab/nvterekhanova/cptac/CPTAC_catalogs/CPTAC3.catalog/BamMap/MGI.BamMap.dat'\n",
    "# EXECUTION_DIR = '/gscmnt/gc2508/dinglab/estorrs/ancestry/executions/cptac3_gbm'"
   ]
  },
  {
   "cell_type": "code",
   "execution_count": 1,
   "metadata": {},
   "outputs": [],
   "source": [
    "# BAM_MAP_LOCATION = '/gscmnt/gc2508/dinglab/estorrs/ancestry/executions/nadja/cptac_pda_08182020/samples_CPTAC_PDA_Discovery.txt'\n",
    "# EXECUTION_DIR = '/gscmnt/gc2508/dinglab/estorrs/ancestry/executions/nadja/cptac_pda_08182020/execution'"
   ]
  },
  {
   "cell_type": "code",
   "execution_count": 45,
   "metadata": {},
   "outputs": [],
   "source": [
    "# BAM_MAP_LOCATION = '/gscmnt/gc2686/rna_editing/TCGA-TGCT/somaticwrapper_secondary_included_v2/run_dir/input.bam.list'\n",
    "# EXECUTION_DIR = '/gscmnt/gc2508/dinglab/estorrs/ancestry/executions/tgct'"
   ]
  },
  {
   "cell_type": "code",
   "execution_count": 75,
   "metadata": {},
   "outputs": [],
   "source": [
    "BAM_MAP_LOCATION = '/gscmnt/gc2508/dinglab/estorrs/ancestry/executions/yize/03162021_batch2/samplemap.txt'\n",
    "EXECUTION_DIR = '/gscmnt/gc2508/dinglab/estorrs/ancestry/executions/yize/03162021_batch2'"
   ]
  },
  {
   "cell_type": "code",
   "execution_count": 3,
   "metadata": {},
   "outputs": [],
   "source": [
    "EXECUTION_DIR = '/gscmnt/gc2508/dinglab/estorrs/ancestry/executions/fernanda/12032020/execution'\n",
    "from pathlib import Path\n",
    "Path(EXECUTION_DIR).mkdir(exist_ok=True, parents=True)"
   ]
  },
  {
   "cell_type": "code",
   "execution_count": 5,
   "metadata": {
    "scrolled": true
   },
   "outputs": [
    {
     "data": {
      "text/plain": [
       "(35,\n",
       " ['/gscmnt/gc2545/multiple_myeloma/FamilialMMY/WXS_normal_batch3_BAMs/H_YX-1001-1001.2903150868.trimmed.aligned.sorted.markedDup.bam',\n",
       "  '/gscmnt/gc2545/multiple_myeloma/FamilialMMY/WXS_normal_batch3_BAMs/H_YX-1001-brother-1001-brother.2903121672.trimmed.aligned.sorted.markedDup.bam',\n",
       "  '/gscmnt/gc2545/multiple_myeloma/FamilialMMY/WXS_normal_batch3_BAMs/H_YX-1001-brother-1001-brother.2903197067.trimmed.aligned.sorted.markedDup.bam',\n",
       "  '/gscmnt/gc2545/multiple_myeloma/FamilialMMY/WXS_normal_batch3_BAMs/H_YX-1001-brother-1001-brother.trimmed.aligned.sorted.markedDup.bam',\n",
       "  '/gscmnt/gc2545/multiple_myeloma/FamilialMMY/WXS_normal_batch3_BAMs/H_YX-1001-cousin-1001-cousin.2903150802.trimmed.aligned.sorted.markedDup.bam',\n",
       "  '/gscmnt/gc2545/multiple_myeloma/FamilialMMY/WXS_normal_batch3_BAMs/H_YX-1001-daughter-1001-daughter.2903121662.trimmed.aligned.sorted.markedDup.bam',\n",
       "  '/gscmnt/gc2545/multiple_myeloma/FamilialMMY/WXS_normal_batch3_BAMs/H_YX-1001-daughter-1001-daughter.2903197104.trimmed.aligned.sorted.markedDup.bam',\n",
       "  '/gscmnt/gc2545/multiple_myeloma/FamilialMMY/WXS_normal_batch3_BAMs/H_YX-1001-daughter-1001-daughter.trimmed.aligned.sorted.markedDup.bam',\n",
       "  '/gscmnt/gc2545/multiple_myeloma/FamilialMMY/WXS_normal_batch3_BAMs/H_YX-1001-sister_1-1001-sister_1.2903121687.trimmed.aligned.sorted.markedDup.bam',\n",
       "  '/gscmnt/gc2545/multiple_myeloma/FamilialMMY/WXS_normal_batch3_BAMs/H_YX-1001-sister_1-1001-sister_1.2903197051.trimmed.aligned.sorted.markedDup.bam',\n",
       "  '/gscmnt/gc2545/multiple_myeloma/FamilialMMY/WXS_normal_batch3_BAMs/H_YX-1001-sister_1-1001-sister_1.trimmed.aligned.sorted.markedDup.bam',\n",
       "  '/gscmnt/gc2545/multiple_myeloma/FamilialMMY/WXS_normal_batch3_BAMs/H_YX-1001-sister_2-1001-sister_2.2903150785.trimmed.aligned.sorted.markedDup.bam',\n",
       "  '/gscmnt/gc2545/multiple_myeloma/FamilialMMY/WXS_normal_batch3_BAMs/H_YX-1002-1002.2903121677.trimmed.aligned.sorted.markedDup.bam',\n",
       "  '/gscmnt/gc2545/multiple_myeloma/FamilialMMY/WXS_normal_batch3_BAMs/H_YX-1002-1002.2903196968.trimmed.aligned.sorted.markedDup.bam',\n",
       "  '/gscmnt/gc2545/multiple_myeloma/FamilialMMY/WXS_normal_batch3_BAMs/H_YX-1002-1002.trimmed.aligned.sorted.markedDup.bam',\n",
       "  '/gscmnt/gc2545/multiple_myeloma/FamilialMMY/WXS_normal_batch3_BAMs/H_YX-1002-brother-1002-brother.2903121735.trimmed.aligned.sorted.markedDup.bam',\n",
       "  '/gscmnt/gc2545/multiple_myeloma/FamilialMMY/WXS_normal_batch3_BAMs/H_YX-1002-brother-1002-brother.2903197061.trimmed.aligned.sorted.markedDup.bam',\n",
       "  '/gscmnt/gc2545/multiple_myeloma/FamilialMMY/WXS_normal_batch3_BAMs/H_YX-1002-brother-1002-brother.trimmed.aligned.sorted.markedDup.bam',\n",
       "  '/gscmnt/gc2545/multiple_myeloma/FamilialMMY/WXS_normal_batch3_BAMs/H_YX-1005-1005.2903121725.trimmed.aligned.sorted.markedDup.bam',\n",
       "  '/gscmnt/gc2545/multiple_myeloma/FamilialMMY/WXS_normal_batch3_BAMs/H_YX-1005-1005.2903197068.trimmed.aligned.sorted.markedDup.bam',\n",
       "  '/gscmnt/gc2545/multiple_myeloma/FamilialMMY/WXS_normal_batch3_BAMs/H_YX-1005-1005.trimmed.aligned.sorted.markedDup.bam',\n",
       "  '/gscmnt/gc2545/multiple_myeloma/FamilialMMY/WXS_normal_batch3_BAMs/H_YX-1009-1009.2903150831.trimmed.aligned.sorted.markedDup.bam',\n",
       "  '/gscmnt/gc2545/multiple_myeloma/FamilialMMY/WXS_normal_batch3_BAMs/H_YX-1021-daughter-1021-daughter.2903150796.trimmed.aligned.sorted.markedDup.bam',\n",
       "  '/gscmnt/gc2545/multiple_myeloma/FamilialMMY/WXS_normal_batch3_BAMs/H_YX-1021-sister_1-1021-sister_1.2903150867.trimmed.aligned.sorted.markedDup.bam',\n",
       "  '/gscmnt/gc2545/multiple_myeloma/FamilialMMY/WXS_normal_batch3_BAMs/H_YX-1021-sister_2-1021-sister_2.2903121663.trimmed.aligned.sorted.markedDup.bam',\n",
       "  '/gscmnt/gc2545/multiple_myeloma/FamilialMMY/WXS_normal_batch3_BAMs/H_YX-1021-sister_2-1021-sister_2.2903196966.trimmed.aligned.sorted.markedDup.bam',\n",
       "  '/gscmnt/gc2545/multiple_myeloma/FamilialMMY/WXS_normal_batch3_BAMs/H_YX-1021-sister_2-1021-sister_2.trimmed.aligned.sorted.markedDup.bam',\n",
       "  '/gscmnt/gc2545/multiple_myeloma/FamilialMMY/WXS_normal_batch3_BAMs/H_YX-1030-brother-1030-brother.2903121681.trimmed.aligned.sorted.markedDup.bam',\n",
       "  '/gscmnt/gc2545/multiple_myeloma/FamilialMMY/WXS_normal_batch3_BAMs/H_YX-1030-brother-1030-brother.2903196956.trimmed.aligned.sorted.markedDup.bam',\n",
       "  '/gscmnt/gc2545/multiple_myeloma/FamilialMMY/WXS_normal_batch3_BAMs/H_YX-1030-brother-1030-brother.trimmed.aligned.sorted.markedDup.bam',\n",
       "  '/gscmnt/gc2545/multiple_myeloma/FamilialMMY/WXS_normal_batch3_BAMs/H_YX-1081-1081.2903121879.trimmed.aligned.sorted.markedDup.bam',\n",
       "  '/gscmnt/gc2545/multiple_myeloma/FamilialMMY/WXS_normal_batch3_BAMs/H_YX-1081-1081.2903197057.trimmed.aligned.sorted.markedDup.bam',\n",
       "  '/gscmnt/gc2545/multiple_myeloma/FamilialMMY/WXS_normal_batch3_BAMs/H_YX-1081-1081.trimmed.aligned.sorted.markedDup.bam',\n",
       "  '/gscmnt/gc2545/multiple_myeloma/FamilialMMY/WXS_normal_batch3_BAMs/H_YX-1081-brother-1081-brother.2903150838.trimmed.aligned.sorted.markedDup.bam',\n",
       "  '/gscmnt/gc2545/multiple_myeloma/FamilialMMY/WXS_normal_batch3_BAMs/H_YX-1081-niece-1081-niece.2903150818.trimmed.aligned.sorted.markedDup.bam'])"
      ]
     },
     "execution_count": 5,
     "metadata": {},
     "output_type": "execute_result"
    }
   ],
   "source": [
    "fps = sorted(os_helpers.listfiles('/gscmnt/gc2545/multiple_myeloma/FamilialMMY/WXS_normal_batch3_BAMs/',\n",
    "                                 regex='.bam$'))\n",
    "len(fps), fps"
   ]
  },
  {
   "cell_type": "code",
   "execution_count": 6,
   "metadata": {},
   "outputs": [
    {
     "data": {
      "text/plain": [
       "(35,\n",
       " [('H_YX-1001-1001.2903150868.trimmed.aligned.sorted.markedDup',\n",
       "   '/gscmnt/gc2545/multiple_myeloma/FamilialMMY/WXS_normal_batch3_BAMs/H_YX-1001-1001.2903150868.trimmed.aligned.sorted.markedDup.bam'),\n",
       "  ('H_YX-1001-brother-1001-brother.2903121672.trimmed.aligned.sorted.markedDup',\n",
       "   '/gscmnt/gc2545/multiple_myeloma/FamilialMMY/WXS_normal_batch3_BAMs/H_YX-1001-brother-1001-brother.2903121672.trimmed.aligned.sorted.markedDup.bam'),\n",
       "  ('H_YX-1001-brother-1001-brother.2903197067.trimmed.aligned.sorted.markedDup',\n",
       "   '/gscmnt/gc2545/multiple_myeloma/FamilialMMY/WXS_normal_batch3_BAMs/H_YX-1001-brother-1001-brother.2903197067.trimmed.aligned.sorted.markedDup.bam'),\n",
       "  ('H_YX-1001-brother-1001-brother.trimmed.aligned.sorted.markedDup',\n",
       "   '/gscmnt/gc2545/multiple_myeloma/FamilialMMY/WXS_normal_batch3_BAMs/H_YX-1001-brother-1001-brother.trimmed.aligned.sorted.markedDup.bam'),\n",
       "  ('H_YX-1001-cousin-1001-cousin.2903150802.trimmed.aligned.sorted.markedDup',\n",
       "   '/gscmnt/gc2545/multiple_myeloma/FamilialMMY/WXS_normal_batch3_BAMs/H_YX-1001-cousin-1001-cousin.2903150802.trimmed.aligned.sorted.markedDup.bam')])"
      ]
     },
     "execution_count": 6,
     "metadata": {},
     "output_type": "execute_result"
    }
   ],
   "source": [
    "sample_fp_tups = [(fp.split('/')[-1].replace('.bam', ''), fp) for fp in fps]\n",
    "len(sample_fp_tups), sample_fp_tups[:5]"
   ]
  },
  {
   "cell_type": "code",
   "execution_count": null,
   "metadata": {},
   "outputs": [],
   "source": []
  },
  {
   "cell_type": "code",
   "execution_count": null,
   "metadata": {},
   "outputs": [],
   "source": []
  },
  {
   "cell_type": "code",
   "execution_count": null,
   "metadata": {},
   "outputs": [],
   "source": []
  },
  {
   "cell_type": "code",
   "execution_count": null,
   "metadata": {},
   "outputs": [],
   "source": []
  },
  {
   "cell_type": "code",
   "execution_count": null,
   "metadata": {},
   "outputs": [],
   "source": []
  },
  {
   "cell_type": "code",
   "execution_count": null,
   "metadata": {},
   "outputs": [],
   "source": []
  },
  {
   "cell_type": "code",
   "execution_count": null,
   "metadata": {},
   "outputs": [],
   "source": []
  },
  {
   "cell_type": "code",
   "execution_count": 22,
   "metadata": {},
   "outputs": [],
   "source": [
    "BAM_MAP_LOCATION = '/gscmnt/gc2508/dinglab/estorrs/ancestry/executions/yize/sample_mismatch/PKD_BAM_list.tsv'\n",
    "EXECUTION_DIR = '/gscmnt/gc2508/dinglab/estorrs/ancestry/executions/yize/sample_mismatch/'"
   ]
  },
  {
   "cell_type": "code",
   "execution_count": 76,
   "metadata": {},
   "outputs": [
    {
     "data": {
      "text/plain": [
       "(36,\n",
       " [('851577_1',\n",
       "   '/gscmnt/gc2724/dinglab/yli/Data/Cervical/scratch/4.WES_36/TWDD-700514_851577-M1511962_1.sorted.marked_duplicates.bam'),\n",
       "  ('851577_2',\n",
       "   '/gscmnt/gc2724/dinglab/yli/Data/Cervical/scratch/4.WES_36/TWDD-700514_851577-M1511972_1.sorted.marked_duplicates.bam'),\n",
       "  ('851577_blood',\n",
       "   '/gscmnt/gc2724/dinglab/yli/Data/Cervical/scratch/4.WES_36/TWDD-700514_851577-M1511976_1.sorted.marked_duplicates.bam'),\n",
       "  ('852129_1',\n",
       "   '/gscmnt/gc2724/dinglab/yli/Data/Cervical/scratch/4.WES_36/TWDD-700514_852129-M1511969_1.sorted.marked_duplicates.bam'),\n",
       "  ('852129_2',\n",
       "   '/gscmnt/gc2724/dinglab/yli/Data/Cervical/scratch/4.WES_36/TWDD-700514_852129-M1511973_1.sorted.marked_duplicates.bam')])"
      ]
     },
     "execution_count": 76,
     "metadata": {},
     "output_type": "execute_result"
    }
   ],
   "source": [
    "df = pd.read_csv(BAM_MAP_LOCATION, sep='\\t', index_col='sample_id')\n",
    "df\n",
    "\n",
    "sample_fp_tups = [(s, fp) for s, fp in zip(df.index, df['filepath'])]\n",
    "len(sample_fp_tups), sample_fp_tups[:5]"
   ]
  },
  {
   "cell_type": "code",
   "execution_count": 63,
   "metadata": {},
   "outputs": [
    {
     "data": {
      "text/plain": [
       "(270,\n",
       " [('TCGA-2G-AAEQ-01_T',\n",
       "   '/gscmnt/gc2686/rna_editing/TCGA-TGCT/somaticwrapper_secondary_included_v2/run_dir/TCGA-2G-AAEQ-01/TCGA-2G-AAEQ-01.T.bam'),\n",
       "  ('TCGA-2G-AAER-01_T',\n",
       "   '/gscmnt/gc2686/rna_editing/TCGA-TGCT/somaticwrapper_secondary_included_v2/run_dir/TCGA-2G-AAER-01/TCGA-2G-AAER-01.T.bam'),\n",
       "  ('TCGA-2G-AAES-01_T',\n",
       "   '/gscmnt/gc2686/rna_editing/TCGA-TGCT/somaticwrapper_secondary_included_v2/run_dir/TCGA-2G-AAES-01/TCGA-2G-AAES-01.T.bam'),\n",
       "  ('TCGA-2G-AAET-01_T',\n",
       "   '/gscmnt/gc2686/rna_editing/TCGA-TGCT/somaticwrapper_secondary_included_v2/run_dir/TCGA-2G-AAET-01/TCGA-2G-AAET-01.T.bam'),\n",
       "  ('TCGA-2G-AAEU-01_T',\n",
       "   '/gscmnt/gc2686/rna_editing/TCGA-TGCT/somaticwrapper_secondary_included_v2/run_dir/TCGA-2G-AAEU-01/TCGA-2G-AAEU-01.T.bam')])"
      ]
     },
     "execution_count": 63,
     "metadata": {},
     "output_type": "execute_result"
    }
   ],
   "source": [
    "df = pd.read_csv(BAM_MAP_LOCATION, sep='\\t', header=None, index_col=0)\n",
    "df\n",
    "\n",
    "sample_fp_tups = [(s, fp) for s, fp in zip(df.index, df[1])]\n",
    "len(sample_fp_tups), sample_fp_tups[:5]"
   ]
  },
  {
   "cell_type": "code",
   "execution_count": 64,
   "metadata": {},
   "outputs": [],
   "source": [
    "# sorted(set([x for x, _ in sample_fp_tups]))"
   ]
  },
  {
   "cell_type": "code",
   "execution_count": 65,
   "metadata": {},
   "outputs": [
    {
     "data": {
      "text/plain": [
       "[('TCGA-VF-A8A9-01_T',\n",
       "  '/gscmnt/gc2686/rna_editing/TCGA-TGCT/somaticwrapper_secondary_included_v2/run_dir/TCGA-VF-A8A9-01/TCGA-VF-A8A9-01.T.bam'),\n",
       " ('TCGA-VF-A8AA-01_T',\n",
       "  '/gscmnt/gc2686/rna_editing/TCGA-TGCT/somaticwrapper_secondary_included_v2/run_dir/TCGA-VF-A8AA-01/TCGA-VF-A8AA-01.T.bam'),\n",
       " ('TCGA-W4-A7U2-01_T',\n",
       "  '/gscmnt/gc2686/rna_editing/TCGA-TGCT/somaticwrapper_secondary_included_v2/run_dir/TCGA-W4-A7U2-01/TCGA-W4-A7U2-01.T.bam'),\n",
       " ('TCGA-W4-A7U3-01_T',\n",
       "  '/gscmnt/gc2686/rna_editing/TCGA-TGCT/somaticwrapper_secondary_included_v2/run_dir/TCGA-W4-A7U3-01/TCGA-W4-A7U3-01.T.bam'),\n",
       " ('TCGA-W4-A7U4-01_T',\n",
       "  '/gscmnt/gc2686/rna_editing/TCGA-TGCT/somaticwrapper_secondary_included_v2/run_dir/TCGA-W4-A7U4-01/TCGA-W4-A7U4-01.T.bam'),\n",
       " ('TCGA-WZ-A7V4-01_T',\n",
       "  '/gscmnt/gc2686/rna_editing/TCGA-TGCT/somaticwrapper_secondary_included_v2/run_dir/TCGA-WZ-A7V4-01/TCGA-WZ-A7V4-01.T.bam'),\n",
       " ('TCGA-VF-A8A9-01_N',\n",
       "  '/gscmnt/gc2686/rna_editing/TCGA-TGCT/somaticwrapper_secondary_included_v2/run_dir/TCGA-VF-A8A9-01/TCGA-VF-A8A9-01.N.bam'),\n",
       " ('TCGA-VF-A8AA-01_N',\n",
       "  '/gscmnt/gc2686/rna_editing/TCGA-TGCT/somaticwrapper_secondary_included_v2/run_dir/TCGA-VF-A8AA-01/TCGA-VF-A8AA-01.N.bam'),\n",
       " ('TCGA-W4-A7U2-01_N',\n",
       "  '/gscmnt/gc2686/rna_editing/TCGA-TGCT/somaticwrapper_secondary_included_v2/run_dir/TCGA-W4-A7U2-01/TCGA-W4-A7U2-01.N.bam'),\n",
       " ('TCGA-W4-A7U3-01_N',\n",
       "  '/gscmnt/gc2686/rna_editing/TCGA-TGCT/somaticwrapper_secondary_included_v2/run_dir/TCGA-W4-A7U3-01/TCGA-W4-A7U3-01.N.bam'),\n",
       " ('TCGA-W4-A7U4-01_N',\n",
       "  '/gscmnt/gc2686/rna_editing/TCGA-TGCT/somaticwrapper_secondary_included_v2/run_dir/TCGA-W4-A7U4-01/TCGA-W4-A7U4-01.N.bam'),\n",
       " ('TCGA-WZ-A7V4-01_N',\n",
       "  '/gscmnt/gc2686/rna_editing/TCGA-TGCT/somaticwrapper_secondary_included_v2/run_dir/TCGA-WZ-A7V4-01/TCGA-WZ-A7V4-01.N.bam')]"
      ]
     },
     "execution_count": 65,
     "metadata": {},
     "output_type": "execute_result"
    }
   ],
   "source": [
    "pool = [\n",
    "    'TCGA-W4-A7U3-01',\n",
    "    'TCGA-W4-A7U2-01',\n",
    "    'TCGA-VF-A8A9-01',\n",
    "    'TCGA-VF-A8AA-01',\n",
    "    'TCGA-WZ-A7V4-01',\n",
    "    'TCGA-W4-A7U4-01'\n",
    "]\n",
    "sample_fp_tups = [(s, f) for s, f in sample_fp_tups if s.split('_')[0] in pool]\n",
    "sample_fp_tups += [(s.replace('_T', '_N'), f.replace('T.bam', 'N.bam')) for s, f in sample_fp_tups]\n",
    "sample_fp_tups"
   ]
  },
  {
   "cell_type": "code",
   "execution_count": 46,
   "metadata": {},
   "outputs": [
    {
     "data": {
      "text/html": [
       "<div>\n",
       "<style scoped>\n",
       "    .dataframe tbody tr th:only-of-type {\n",
       "        vertical-align: middle;\n",
       "    }\n",
       "\n",
       "    .dataframe tbody tr th {\n",
       "        vertical-align: top;\n",
       "    }\n",
       "\n",
       "    .dataframe thead th {\n",
       "        text-align: right;\n",
       "    }\n",
       "</style>\n",
       "<table border=\"1\" class=\"dataframe\">\n",
       "  <thead>\n",
       "    <tr style=\"text-align: right;\">\n",
       "      <th></th>\n",
       "      <th>1</th>\n",
       "    </tr>\n",
       "    <tr>\n",
       "      <th>0</th>\n",
       "      <th></th>\n",
       "    </tr>\n",
       "  </thead>\n",
       "  <tbody>\n",
       "    <tr>\n",
       "      <th>TCGA-2G-AAEQ-01_T</th>\n",
       "      <td>/gscmnt/gc2686/rna_editing/TCGA-TGCT/somaticwr...</td>\n",
       "    </tr>\n",
       "    <tr>\n",
       "      <th>TCGA-2G-AAER-01_T</th>\n",
       "      <td>/gscmnt/gc2686/rna_editing/TCGA-TGCT/somaticwr...</td>\n",
       "    </tr>\n",
       "    <tr>\n",
       "      <th>TCGA-2G-AAES-01_T</th>\n",
       "      <td>/gscmnt/gc2686/rna_editing/TCGA-TGCT/somaticwr...</td>\n",
       "    </tr>\n",
       "    <tr>\n",
       "      <th>TCGA-2G-AAET-01_T</th>\n",
       "      <td>/gscmnt/gc2686/rna_editing/TCGA-TGCT/somaticwr...</td>\n",
       "    </tr>\n",
       "    <tr>\n",
       "      <th>TCGA-2G-AAEU-01_T</th>\n",
       "      <td>/gscmnt/gc2686/rna_editing/TCGA-TGCT/somaticwr...</td>\n",
       "    </tr>\n",
       "    <tr>\n",
       "      <th>TCGA-2G-AAEV-01_T</th>\n",
       "      <td>/gscmnt/gc2686/rna_editing/TCGA-TGCT/somaticwr...</td>\n",
       "    </tr>\n",
       "    <tr>\n",
       "      <th>TCGA-2G-AAEW-01_T</th>\n",
       "      <td>/gscmnt/gc2686/rna_editing/TCGA-TGCT/somaticwr...</td>\n",
       "    </tr>\n",
       "    <tr>\n",
       "      <th>TCGA-2G-AAEX-01_T</th>\n",
       "      <td>/gscmnt/gc2686/rna_editing/TCGA-TGCT/somaticwr...</td>\n",
       "    </tr>\n",
       "    <tr>\n",
       "      <th>TCGA-2G-AAEY-01_T</th>\n",
       "      <td>/gscmnt/gc2686/rna_editing/TCGA-TGCT/somaticwr...</td>\n",
       "    </tr>\n",
       "    <tr>\n",
       "      <th>TCGA-2G-AAEZ-01_T</th>\n",
       "      <td>/gscmnt/gc2686/rna_editing/TCGA-TGCT/somaticwr...</td>\n",
       "    </tr>\n",
       "    <tr>\n",
       "      <th>TCGA-2G-AAF0-01_T</th>\n",
       "      <td>/gscmnt/gc2686/rna_editing/TCGA-TGCT/somaticwr...</td>\n",
       "    </tr>\n",
       "    <tr>\n",
       "      <th>TCGA-2G-AAF1-01_T</th>\n",
       "      <td>/gscmnt/gc2686/rna_editing/TCGA-TGCT/somaticwr...</td>\n",
       "    </tr>\n",
       "    <tr>\n",
       "      <th>TCGA-2G-AAF2-01_T</th>\n",
       "      <td>/gscmnt/gc2686/rna_editing/TCGA-TGCT/somaticwr...</td>\n",
       "    </tr>\n",
       "    <tr>\n",
       "      <th>TCGA-2G-AAF3-01_T</th>\n",
       "      <td>/gscmnt/gc2686/rna_editing/TCGA-TGCT/somaticwr...</td>\n",
       "    </tr>\n",
       "    <tr>\n",
       "      <th>TCGA-2G-AAF4-01_T</th>\n",
       "      <td>/gscmnt/gc2686/rna_editing/TCGA-TGCT/somaticwr...</td>\n",
       "    </tr>\n",
       "    <tr>\n",
       "      <th>TCGA-2G-AAF6-01_T</th>\n",
       "      <td>/gscmnt/gc2686/rna_editing/TCGA-TGCT/somaticwr...</td>\n",
       "    </tr>\n",
       "    <tr>\n",
       "      <th>TCGA-2G-AAF7-01_T</th>\n",
       "      <td>/gscmnt/gc2686/rna_editing/TCGA-TGCT/somaticwr...</td>\n",
       "    </tr>\n",
       "    <tr>\n",
       "      <th>TCGA-2G-AAF8-01_T</th>\n",
       "      <td>/gscmnt/gc2686/rna_editing/TCGA-TGCT/somaticwr...</td>\n",
       "    </tr>\n",
       "    <tr>\n",
       "      <th>TCGA-2G-AAF9-01_T</th>\n",
       "      <td>/gscmnt/gc2686/rna_editing/TCGA-TGCT/somaticwr...</td>\n",
       "    </tr>\n",
       "    <tr>\n",
       "      <th>TCGA-2G-AAFA-01_T</th>\n",
       "      <td>/gscmnt/gc2686/rna_editing/TCGA-TGCT/somaticwr...</td>\n",
       "    </tr>\n",
       "    <tr>\n",
       "      <th>TCGA-2G-AAFB-01_T</th>\n",
       "      <td>/gscmnt/gc2686/rna_editing/TCGA-TGCT/somaticwr...</td>\n",
       "    </tr>\n",
       "    <tr>\n",
       "      <th>TCGA-2G-AAFC-01_T</th>\n",
       "      <td>/gscmnt/gc2686/rna_editing/TCGA-TGCT/somaticwr...</td>\n",
       "    </tr>\n",
       "    <tr>\n",
       "      <th>TCGA-2G-AAFD-01_T</th>\n",
       "      <td>/gscmnt/gc2686/rna_editing/TCGA-TGCT/somaticwr...</td>\n",
       "    </tr>\n",
       "    <tr>\n",
       "      <th>TCGA-2G-AAFE-01_T</th>\n",
       "      <td>/gscmnt/gc2686/rna_editing/TCGA-TGCT/somaticwr...</td>\n",
       "    </tr>\n",
       "    <tr>\n",
       "      <th>TCGA-2G-AAFF-01_T</th>\n",
       "      <td>/gscmnt/gc2686/rna_editing/TCGA-TGCT/somaticwr...</td>\n",
       "    </tr>\n",
       "    <tr>\n",
       "      <th>TCGA-2G-AAFG-01_T</th>\n",
       "      <td>/gscmnt/gc2686/rna_editing/TCGA-TGCT/somaticwr...</td>\n",
       "    </tr>\n",
       "    <tr>\n",
       "      <th>TCGA-2G-AAFG-05_T</th>\n",
       "      <td>/gscmnt/gc2686/rna_editing/TCGA-TGCT/somaticwr...</td>\n",
       "    </tr>\n",
       "    <tr>\n",
       "      <th>TCGA-2G-AAFH-01_T</th>\n",
       "      <td>/gscmnt/gc2686/rna_editing/TCGA-TGCT/somaticwr...</td>\n",
       "    </tr>\n",
       "    <tr>\n",
       "      <th>TCGA-2G-AAFI-01_T</th>\n",
       "      <td>/gscmnt/gc2686/rna_editing/TCGA-TGCT/somaticwr...</td>\n",
       "    </tr>\n",
       "    <tr>\n",
       "      <th>TCGA-2G-AAFJ-01_T</th>\n",
       "      <td>/gscmnt/gc2686/rna_editing/TCGA-TGCT/somaticwr...</td>\n",
       "    </tr>\n",
       "    <tr>\n",
       "      <th>...</th>\n",
       "      <td>...</td>\n",
       "    </tr>\n",
       "    <tr>\n",
       "      <th>TCGA-YU-A90R-01_T</th>\n",
       "      <td>/gscmnt/gc2686/rna_editing/TCGA-TGCT/somaticwr...</td>\n",
       "    </tr>\n",
       "    <tr>\n",
       "      <th>TCGA-YU-A90S-01_T</th>\n",
       "      <td>/gscmnt/gc2686/rna_editing/TCGA-TGCT/somaticwr...</td>\n",
       "    </tr>\n",
       "    <tr>\n",
       "      <th>TCGA-YU-A90V-01_T</th>\n",
       "      <td>/gscmnt/gc2686/rna_editing/TCGA-TGCT/somaticwr...</td>\n",
       "    </tr>\n",
       "    <tr>\n",
       "      <th>TCGA-YU-A90W-01_T</th>\n",
       "      <td>/gscmnt/gc2686/rna_editing/TCGA-TGCT/somaticwr...</td>\n",
       "    </tr>\n",
       "    <tr>\n",
       "      <th>TCGA-YU-A90Y-01_T</th>\n",
       "      <td>/gscmnt/gc2686/rna_editing/TCGA-TGCT/somaticwr...</td>\n",
       "    </tr>\n",
       "    <tr>\n",
       "      <th>TCGA-YU-A90Z-01_T</th>\n",
       "      <td>/gscmnt/gc2686/rna_editing/TCGA-TGCT/somaticwr...</td>\n",
       "    </tr>\n",
       "    <tr>\n",
       "      <th>TCGA-YU-A912-01_T</th>\n",
       "      <td>/gscmnt/gc2686/rna_editing/TCGA-TGCT/somaticwr...</td>\n",
       "    </tr>\n",
       "    <tr>\n",
       "      <th>TCGA-YU-A948-01_T</th>\n",
       "      <td>/gscmnt/gc2686/rna_editing/TCGA-TGCT/somaticwr...</td>\n",
       "    </tr>\n",
       "    <tr>\n",
       "      <th>TCGA-YU-A94A-01_T</th>\n",
       "      <td>/gscmnt/gc2686/rna_editing/TCGA-TGCT/somaticwr...</td>\n",
       "    </tr>\n",
       "    <tr>\n",
       "      <th>TCGA-YU-A94B-01_T</th>\n",
       "      <td>/gscmnt/gc2686/rna_editing/TCGA-TGCT/somaticwr...</td>\n",
       "    </tr>\n",
       "    <tr>\n",
       "      <th>TCGA-YU-A94C-01_T</th>\n",
       "      <td>/gscmnt/gc2686/rna_editing/TCGA-TGCT/somaticwr...</td>\n",
       "    </tr>\n",
       "    <tr>\n",
       "      <th>TCGA-YU-A94D-01_T</th>\n",
       "      <td>/gscmnt/gc2686/rna_editing/TCGA-TGCT/somaticwr...</td>\n",
       "    </tr>\n",
       "    <tr>\n",
       "      <th>TCGA-YU-A94H-01_T</th>\n",
       "      <td>/gscmnt/gc2686/rna_editing/TCGA-TGCT/somaticwr...</td>\n",
       "    </tr>\n",
       "    <tr>\n",
       "      <th>TCGA-YU-A94I-01_T</th>\n",
       "      <td>/gscmnt/gc2686/rna_editing/TCGA-TGCT/somaticwr...</td>\n",
       "    </tr>\n",
       "    <tr>\n",
       "      <th>TCGA-YU-A94J-01_T</th>\n",
       "      <td>/gscmnt/gc2686/rna_editing/TCGA-TGCT/somaticwr...</td>\n",
       "    </tr>\n",
       "    <tr>\n",
       "      <th>TCGA-YU-A94K-01_T</th>\n",
       "      <td>/gscmnt/gc2686/rna_editing/TCGA-TGCT/somaticwr...</td>\n",
       "    </tr>\n",
       "    <tr>\n",
       "      <th>TCGA-YU-A94L-01_T</th>\n",
       "      <td>/gscmnt/gc2686/rna_editing/TCGA-TGCT/somaticwr...</td>\n",
       "    </tr>\n",
       "    <tr>\n",
       "      <th>TCGA-YU-A94M-01_T</th>\n",
       "      <td>/gscmnt/gc2686/rna_editing/TCGA-TGCT/somaticwr...</td>\n",
       "    </tr>\n",
       "    <tr>\n",
       "      <th>TCGA-YU-A94N-01_T</th>\n",
       "      <td>/gscmnt/gc2686/rna_editing/TCGA-TGCT/somaticwr...</td>\n",
       "    </tr>\n",
       "    <tr>\n",
       "      <th>TCGA-YU-AA4L-01_T</th>\n",
       "      <td>/gscmnt/gc2686/rna_editing/TCGA-TGCT/somaticwr...</td>\n",
       "    </tr>\n",
       "    <tr>\n",
       "      <th>TCGA-YU-AA60-01_T</th>\n",
       "      <td>/gscmnt/gc2686/rna_editing/TCGA-TGCT/somaticwr...</td>\n",
       "    </tr>\n",
       "    <tr>\n",
       "      <th>TCGA-YU-AA61-01_T</th>\n",
       "      <td>/gscmnt/gc2686/rna_editing/TCGA-TGCT/somaticwr...</td>\n",
       "    </tr>\n",
       "    <tr>\n",
       "      <th>TCGA-ZM-AA05-01_T</th>\n",
       "      <td>/gscmnt/gc2686/rna_editing/TCGA-TGCT/somaticwr...</td>\n",
       "    </tr>\n",
       "    <tr>\n",
       "      <th>TCGA-ZM-AA06-01_T</th>\n",
       "      <td>/gscmnt/gc2686/rna_editing/TCGA-TGCT/somaticwr...</td>\n",
       "    </tr>\n",
       "    <tr>\n",
       "      <th>TCGA-ZM-AA0B-01_T</th>\n",
       "      <td>/gscmnt/gc2686/rna_editing/TCGA-TGCT/somaticwr...</td>\n",
       "    </tr>\n",
       "    <tr>\n",
       "      <th>TCGA-ZM-AA0D-01_T</th>\n",
       "      <td>/gscmnt/gc2686/rna_editing/TCGA-TGCT/somaticwr...</td>\n",
       "    </tr>\n",
       "    <tr>\n",
       "      <th>TCGA-ZM-AA0E-01_T</th>\n",
       "      <td>/gscmnt/gc2686/rna_editing/TCGA-TGCT/somaticwr...</td>\n",
       "    </tr>\n",
       "    <tr>\n",
       "      <th>TCGA-ZM-AA0F-01_T</th>\n",
       "      <td>/gscmnt/gc2686/rna_editing/TCGA-TGCT/somaticwr...</td>\n",
       "    </tr>\n",
       "    <tr>\n",
       "      <th>TCGA-ZM-AA0H-01_T</th>\n",
       "      <td>/gscmnt/gc2686/rna_editing/TCGA-TGCT/somaticwr...</td>\n",
       "    </tr>\n",
       "    <tr>\n",
       "      <th>TCGA-ZM-AA0N-01_T</th>\n",
       "      <td>/gscmnt/gc2686/rna_editing/TCGA-TGCT/somaticwr...</td>\n",
       "    </tr>\n",
       "  </tbody>\n",
       "</table>\n",
       "<p>270 rows × 1 columns</p>\n",
       "</div>"
      ],
      "text/plain": [
       "                                                                   1\n",
       "0                                                                   \n",
       "TCGA-2G-AAEQ-01_T  /gscmnt/gc2686/rna_editing/TCGA-TGCT/somaticwr...\n",
       "TCGA-2G-AAER-01_T  /gscmnt/gc2686/rna_editing/TCGA-TGCT/somaticwr...\n",
       "TCGA-2G-AAES-01_T  /gscmnt/gc2686/rna_editing/TCGA-TGCT/somaticwr...\n",
       "TCGA-2G-AAET-01_T  /gscmnt/gc2686/rna_editing/TCGA-TGCT/somaticwr...\n",
       "TCGA-2G-AAEU-01_T  /gscmnt/gc2686/rna_editing/TCGA-TGCT/somaticwr...\n",
       "TCGA-2G-AAEV-01_T  /gscmnt/gc2686/rna_editing/TCGA-TGCT/somaticwr...\n",
       "TCGA-2G-AAEW-01_T  /gscmnt/gc2686/rna_editing/TCGA-TGCT/somaticwr...\n",
       "TCGA-2G-AAEX-01_T  /gscmnt/gc2686/rna_editing/TCGA-TGCT/somaticwr...\n",
       "TCGA-2G-AAEY-01_T  /gscmnt/gc2686/rna_editing/TCGA-TGCT/somaticwr...\n",
       "TCGA-2G-AAEZ-01_T  /gscmnt/gc2686/rna_editing/TCGA-TGCT/somaticwr...\n",
       "TCGA-2G-AAF0-01_T  /gscmnt/gc2686/rna_editing/TCGA-TGCT/somaticwr...\n",
       "TCGA-2G-AAF1-01_T  /gscmnt/gc2686/rna_editing/TCGA-TGCT/somaticwr...\n",
       "TCGA-2G-AAF2-01_T  /gscmnt/gc2686/rna_editing/TCGA-TGCT/somaticwr...\n",
       "TCGA-2G-AAF3-01_T  /gscmnt/gc2686/rna_editing/TCGA-TGCT/somaticwr...\n",
       "TCGA-2G-AAF4-01_T  /gscmnt/gc2686/rna_editing/TCGA-TGCT/somaticwr...\n",
       "TCGA-2G-AAF6-01_T  /gscmnt/gc2686/rna_editing/TCGA-TGCT/somaticwr...\n",
       "TCGA-2G-AAF7-01_T  /gscmnt/gc2686/rna_editing/TCGA-TGCT/somaticwr...\n",
       "TCGA-2G-AAF8-01_T  /gscmnt/gc2686/rna_editing/TCGA-TGCT/somaticwr...\n",
       "TCGA-2G-AAF9-01_T  /gscmnt/gc2686/rna_editing/TCGA-TGCT/somaticwr...\n",
       "TCGA-2G-AAFA-01_T  /gscmnt/gc2686/rna_editing/TCGA-TGCT/somaticwr...\n",
       "TCGA-2G-AAFB-01_T  /gscmnt/gc2686/rna_editing/TCGA-TGCT/somaticwr...\n",
       "TCGA-2G-AAFC-01_T  /gscmnt/gc2686/rna_editing/TCGA-TGCT/somaticwr...\n",
       "TCGA-2G-AAFD-01_T  /gscmnt/gc2686/rna_editing/TCGA-TGCT/somaticwr...\n",
       "TCGA-2G-AAFE-01_T  /gscmnt/gc2686/rna_editing/TCGA-TGCT/somaticwr...\n",
       "TCGA-2G-AAFF-01_T  /gscmnt/gc2686/rna_editing/TCGA-TGCT/somaticwr...\n",
       "TCGA-2G-AAFG-01_T  /gscmnt/gc2686/rna_editing/TCGA-TGCT/somaticwr...\n",
       "TCGA-2G-AAFG-05_T  /gscmnt/gc2686/rna_editing/TCGA-TGCT/somaticwr...\n",
       "TCGA-2G-AAFH-01_T  /gscmnt/gc2686/rna_editing/TCGA-TGCT/somaticwr...\n",
       "TCGA-2G-AAFI-01_T  /gscmnt/gc2686/rna_editing/TCGA-TGCT/somaticwr...\n",
       "TCGA-2G-AAFJ-01_T  /gscmnt/gc2686/rna_editing/TCGA-TGCT/somaticwr...\n",
       "...                                                              ...\n",
       "TCGA-YU-A90R-01_T  /gscmnt/gc2686/rna_editing/TCGA-TGCT/somaticwr...\n",
       "TCGA-YU-A90S-01_T  /gscmnt/gc2686/rna_editing/TCGA-TGCT/somaticwr...\n",
       "TCGA-YU-A90V-01_T  /gscmnt/gc2686/rna_editing/TCGA-TGCT/somaticwr...\n",
       "TCGA-YU-A90W-01_T  /gscmnt/gc2686/rna_editing/TCGA-TGCT/somaticwr...\n",
       "TCGA-YU-A90Y-01_T  /gscmnt/gc2686/rna_editing/TCGA-TGCT/somaticwr...\n",
       "TCGA-YU-A90Z-01_T  /gscmnt/gc2686/rna_editing/TCGA-TGCT/somaticwr...\n",
       "TCGA-YU-A912-01_T  /gscmnt/gc2686/rna_editing/TCGA-TGCT/somaticwr...\n",
       "TCGA-YU-A948-01_T  /gscmnt/gc2686/rna_editing/TCGA-TGCT/somaticwr...\n",
       "TCGA-YU-A94A-01_T  /gscmnt/gc2686/rna_editing/TCGA-TGCT/somaticwr...\n",
       "TCGA-YU-A94B-01_T  /gscmnt/gc2686/rna_editing/TCGA-TGCT/somaticwr...\n",
       "TCGA-YU-A94C-01_T  /gscmnt/gc2686/rna_editing/TCGA-TGCT/somaticwr...\n",
       "TCGA-YU-A94D-01_T  /gscmnt/gc2686/rna_editing/TCGA-TGCT/somaticwr...\n",
       "TCGA-YU-A94H-01_T  /gscmnt/gc2686/rna_editing/TCGA-TGCT/somaticwr...\n",
       "TCGA-YU-A94I-01_T  /gscmnt/gc2686/rna_editing/TCGA-TGCT/somaticwr...\n",
       "TCGA-YU-A94J-01_T  /gscmnt/gc2686/rna_editing/TCGA-TGCT/somaticwr...\n",
       "TCGA-YU-A94K-01_T  /gscmnt/gc2686/rna_editing/TCGA-TGCT/somaticwr...\n",
       "TCGA-YU-A94L-01_T  /gscmnt/gc2686/rna_editing/TCGA-TGCT/somaticwr...\n",
       "TCGA-YU-A94M-01_T  /gscmnt/gc2686/rna_editing/TCGA-TGCT/somaticwr...\n",
       "TCGA-YU-A94N-01_T  /gscmnt/gc2686/rna_editing/TCGA-TGCT/somaticwr...\n",
       "TCGA-YU-AA4L-01_T  /gscmnt/gc2686/rna_editing/TCGA-TGCT/somaticwr...\n",
       "TCGA-YU-AA60-01_T  /gscmnt/gc2686/rna_editing/TCGA-TGCT/somaticwr...\n",
       "TCGA-YU-AA61-01_T  /gscmnt/gc2686/rna_editing/TCGA-TGCT/somaticwr...\n",
       "TCGA-ZM-AA05-01_T  /gscmnt/gc2686/rna_editing/TCGA-TGCT/somaticwr...\n",
       "TCGA-ZM-AA06-01_T  /gscmnt/gc2686/rna_editing/TCGA-TGCT/somaticwr...\n",
       "TCGA-ZM-AA0B-01_T  /gscmnt/gc2686/rna_editing/TCGA-TGCT/somaticwr...\n",
       "TCGA-ZM-AA0D-01_T  /gscmnt/gc2686/rna_editing/TCGA-TGCT/somaticwr...\n",
       "TCGA-ZM-AA0E-01_T  /gscmnt/gc2686/rna_editing/TCGA-TGCT/somaticwr...\n",
       "TCGA-ZM-AA0F-01_T  /gscmnt/gc2686/rna_editing/TCGA-TGCT/somaticwr...\n",
       "TCGA-ZM-AA0H-01_T  /gscmnt/gc2686/rna_editing/TCGA-TGCT/somaticwr...\n",
       "TCGA-ZM-AA0N-01_T  /gscmnt/gc2686/rna_editing/TCGA-TGCT/somaticwr...\n",
       "\n",
       "[270 rows x 1 columns]"
      ]
     },
     "execution_count": 46,
     "metadata": {},
     "output_type": "execute_result"
    }
   ],
   "source": [
    "df = pd.read_csv(BAM_MAP_LOCATION, sep='\\t', header=None, index_col=0)\n",
    "df\n",
    "\n",
    "# sample_fp_tups = [(s, fp) for s, fp in zip(df.index, df[1])]\n",
    "# len(sample_fp_tups), sample_fp_tups[:5]"
   ]
  },
  {
   "cell_type": "code",
   "execution_count": 37,
   "metadata": {},
   "outputs": [
    {
     "data": {
      "text/plain": [
       "(125,\n",
       " [('C3L-00016.WXS.N.hg38',\n",
       "   {'technology': 'WXS',\n",
       "    'fp': '/gscmnt/gc2741/ding/CPTAC3-data/GDC_import/data/fb7e7564-2179-4c8c-8a4c-ed50a4205a4b/65158bcf-b42e-4e35-aa37-aad195b41e03_gdc_realn.bam'}),\n",
       "  ('C3L-00019.WXS.N.hg38',\n",
       "   {'technology': 'WXS',\n",
       "    'fp': '/gscmnt/gc2741/ding/CPTAC3-data/GDC_import/data/60d54f61-0d56-45f9-b6a7-93e6c66af8c0/383c9539-9c57-47c4-90f3-c0453068ff6f_gdc_realn.bam'}),\n",
       "  ('C3L-00104.WXS.N.hg38',\n",
       "   {'technology': 'WXS',\n",
       "    'fp': '/gscmnt/gc2741/ding/CPTAC3-data/GDC_import/data/cd8ff448-91ea-44b2-9293-0c89f3b6c7a3/27b12d40-946d-4fc4-b336-b0edd9bcaa3c_wxs_gdc_realn.bam'}),\n",
       "  ('C3L-00265.WXS.N.hg38',\n",
       "   {'technology': 'WXS',\n",
       "    'fp': '/gscmnt/gc2741/ding/CPTAC3-data/GDC_import/data/44ee4bea-4f5b-4e67-87d9-ad717cc5b72d/6a73f3b9-56b8-4007-ad6f-7dbc00f85a4c_gdc_realn.bam'}),\n",
       "  ('C3L-00278.WXS.N.hg38',\n",
       "   {'technology': 'WXS',\n",
       "    'fp': '/gscmnt/gc2741/ding/CPTAC3-data/GDC_import/data/796ed8c7-f6ca-4c4f-9723-09e656a1f0a1/d4bac28e-6b0d-4f9b-8bb6-9785ccd8d8ec_gdc_realn.bam'})])"
      ]
     },
     "execution_count": 37,
     "metadata": {},
     "output_type": "execute_result"
    }
   ],
   "source": [
    "f = open(BAM_MAP_LOCATION)\n",
    "sample_data = {}\n",
    "\n",
    "\n",
    "# identifiers = [r'WXS|WGS', 'hg38', 'BAM', r'tissue_normal|blood_normal', 'CCRCC']\n",
    "# identifiers = [r'WXS|WGS', '.bam', 'LSCC', 'blood_normal']\n",
    "identifiers = [r'WXS|WGS', '.bam', 'normal', 'GBM']\n",
    "# identifiers = ['blood_normal']\n",
    "\n",
    "\n",
    "# filter based on identifiers and get sample name and location\n",
    "for line in f:\n",
    "    is_valid = True\n",
    "    for identifier in identifiers:\n",
    "        if not re.findall(identifier, line):\n",
    "            is_valid = False\n",
    "            break\n",
    "\n",
    "    if is_valid:\n",
    "        pieces = line.strip().split('\\t')\n",
    "\n",
    "        sample = pieces[0]\n",
    "        technology = pieces[3]\n",
    "        fp = pieces[5]\n",
    "        \n",
    "        if sample in sample_data:\n",
    "            d = sample_data[sample]\n",
    "            if d['technology'].lower() != 'wxs' and technology.lower() == 'wxs':\n",
    "                sample_data[sample] = {'technology': technology, 'fp': fp}\n",
    "        else:\n",
    "            sample_data[sample] = {'technology': technology, 'fp': fp}\n",
    "len(sample_data), list(sample_data.items())[:5]"
   ]
  },
  {
   "cell_type": "code",
   "execution_count": 38,
   "metadata": {},
   "outputs": [
    {
     "data": {
      "text/plain": [
       "(125,\n",
       " [('C3L-00016.WXS.N.hg38',\n",
       "   '/gscmnt/gc2741/ding/CPTAC3-data/GDC_import/data/fb7e7564-2179-4c8c-8a4c-ed50a4205a4b/65158bcf-b42e-4e35-aa37-aad195b41e03_gdc_realn.bam'),\n",
       "  ('C3L-00019.WXS.N.hg38',\n",
       "   '/gscmnt/gc2741/ding/CPTAC3-data/GDC_import/data/60d54f61-0d56-45f9-b6a7-93e6c66af8c0/383c9539-9c57-47c4-90f3-c0453068ff6f_gdc_realn.bam'),\n",
       "  ('C3L-00104.WXS.N.hg38',\n",
       "   '/gscmnt/gc2741/ding/CPTAC3-data/GDC_import/data/cd8ff448-91ea-44b2-9293-0c89f3b6c7a3/27b12d40-946d-4fc4-b336-b0edd9bcaa3c_wxs_gdc_realn.bam'),\n",
       "  ('C3L-00265.WXS.N.hg38',\n",
       "   '/gscmnt/gc2741/ding/CPTAC3-data/GDC_import/data/44ee4bea-4f5b-4e67-87d9-ad717cc5b72d/6a73f3b9-56b8-4007-ad6f-7dbc00f85a4c_gdc_realn.bam'),\n",
       "  ('C3L-00278.WXS.N.hg38',\n",
       "   '/gscmnt/gc2741/ding/CPTAC3-data/GDC_import/data/796ed8c7-f6ca-4c4f-9723-09e656a1f0a1/d4bac28e-6b0d-4f9b-8bb6-9785ccd8d8ec_gdc_realn.bam')])"
      ]
     },
     "execution_count": 38,
     "metadata": {},
     "output_type": "execute_result"
    }
   ],
   "source": [
    "sample_fp_tups = [(k, d['fp']) for k, d in sample_data.items()]\n",
    "len(sample_fp_tups), sample_fp_tups[:5]"
   ]
  },
  {
   "cell_type": "code",
   "execution_count": 40,
   "metadata": {},
   "outputs": [],
   "source": [
    "# !mkdir /gscmnt/gc2508/dinglab/estorrs/ancestry/executions/cptac3_gbm"
   ]
  },
  {
   "cell_type": "code",
   "execution_count": 77,
   "metadata": {},
   "outputs": [],
   "source": [
    "# write sample to bam location file\n",
    "sample_to_bam_fp = os.path.join(EXECUTION_DIR, 'sample_to_bam.tsv')\n",
    "out_f = open(sample_to_bam_fp, 'w')\n",
    "for sample, fp in sample_fp_tups:\n",
    "    out_f.write(f'{sample}\\t{fp}\\n')\n",
    "out_f.close()"
   ]
  },
  {
   "cell_type": "code",
   "execution_count": 78,
   "metadata": {},
   "outputs": [],
   "source": [
    "os.mkdir(os.path.join(EXECUTION_DIR, 'bams'))"
   ]
  },
  {
   "cell_type": "code",
   "execution_count": 79,
   "metadata": {},
   "outputs": [],
   "source": [
    "# write softlink script\n",
    "softlink_script_fp = os.path.join(EXECUTION_DIR, 'symlink_bams.sh')\n",
    "output_bam_dir = os.path.join(EXECUTION_DIR, 'bams')\n",
    "out_f = open(softlink_script_fp, 'w')\n",
    "for sample, fp in sample_fp_tups:\n",
    "    out_f.write(f'ln -s {fp} {output_bam_dir}/{sample}.bam\\n')\n",
    "out_f.close()"
   ]
  },
  {
   "cell_type": "code",
   "execution_count": null,
   "metadata": {},
   "outputs": [],
   "source": []
  }
 ],
 "metadata": {
  "kernelspec": {
   "display_name": "Python 3",
   "language": "python",
   "name": "python3"
  },
  "language_info": {
   "codemirror_mode": {
    "name": "ipython",
    "version": 3
   },
   "file_extension": ".py",
   "mimetype": "text/x-python",
   "name": "python",
   "nbconvert_exporter": "python",
   "pygments_lexer": "ipython3",
   "version": "3.7.3"
  }
 },
 "nbformat": 4,
 "nbformat_minor": 2
}
