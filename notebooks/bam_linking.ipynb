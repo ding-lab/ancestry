{
 "cells": [
  {
   "cell_type": "code",
   "execution_count": 1,
   "metadata": {},
   "outputs": [],
   "source": [
    "import os\n",
    "import re\n"
   ]
  },
  {
   "cell_type": "code",
   "execution_count": 2,
   "metadata": {},
   "outputs": [],
   "source": [
    "# BAM_MAP_LOCATION = '/gscuser/estorrs/CPTAC3.catalog/MGI.BamMap.dat'\n",
    "# BAM_MAP_LOCATION = '/gscuser/estorrs/gbm.bobo.bammap.dat'\n",
    "BAM_MAP_LOCATION = '/gscmnt/gc2508/dinglab/estorrs/ancestry_data/mmrf/sample_to_bam.tsv'\n",
    "\n",
    "EXECUTION_DIR = '/gscmnt/gc2508/dinglab/estorrs/ancestry_data/mmrf/execution'"
   ]
  },
  {
   "cell_type": "code",
   "execution_count": 9,
   "metadata": {},
   "outputs": [],
   "source": [
    "BAM_MAP_LOCATION = '/gscuser/estorrs/CPTAC3.catalog/BamMap/MGI.BamMap.dat'\n",
    "EXECUTION_DIR = '/gscmnt/gc2508/dinglab/estorrs/ancestry/executions/cptac3_lscc'"
   ]
  },
  {
   "cell_type": "code",
   "execution_count": 6,
   "metadata": {},
   "outputs": [
    {
     "data": {
      "text/plain": [
       "(113,\n",
       " [('C3L-00081',\n",
       "   {'technology': 'WXS',\n",
       "    'fp': '/gscmnt/gc2619/dinglab_cptac3/GDC_import/data/ec948c00-910b-4c7b-82a7-4d209d377116/5e04faec-58e8-403f-942b-74e8c0053805_gdc_realn.bam'}),\n",
       "  ('C3L-00415',\n",
       "   {'technology': 'WXS',\n",
       "    'fp': '/gscmnt/gc2619/dinglab_cptac3/GDC_import/data/9767a9c2-d36b-4cd8-b3bf-e007b9766cc1/ded35b91-a827-4d01-aba8-765d7ba7e4ac_gdc_realn.bam'}),\n",
       "  ('C3L-00445',\n",
       "   {'technology': 'WXS',\n",
       "    'fp': '/gscmnt/gc2741/ding/CPTAC3-data/GDC_import/data/c84accfb-8a6a-4727-9b19-3ed0e410622e/671050aa-def8-4a5c-9101-f9e53d9e8fe4_wxs_gdc_realn.bam'}),\n",
       "  ('C3L-00503',\n",
       "   {'technology': 'WXS',\n",
       "    'fp': '/gscmnt/gc2619/dinglab_cptac3/GDC_import/data/24b3b72d-c3cb-4dc9-96d2-3e8cf9230b52/9b1d1a96-4652-4b71-961a-1159746b2e10_gdc_realn.bam'}),\n",
       "  ('C3L-00568',\n",
       "   {'technology': 'WXS',\n",
       "    'fp': '/gscmnt/gc2619/dinglab_cptac3/GDC_import/data/63c3f570-84a2-4548-b619-ed7c70a38485/556af585-1b23-404c-ae5f-9a74ebc5356b_gdc_realn.bam'})])"
      ]
     },
     "execution_count": 6,
     "metadata": {},
     "output_type": "execute_result"
    }
   ],
   "source": [
    "f = open(BAM_MAP_LOCATION)\n",
    "sample_data = {}\n",
    "\n",
    "\n",
    "# identifiers = [r'WXS|WGS', 'hg38', 'BAM', r'tissue_normal|blood_normal', 'CCRCC']\n",
    "identifiers = [r'WXS|WGS', '.bam', 'LSCC', 'blood_normal']\n",
    "# identifiers = ['blood_normal']\n",
    "\n",
    "\n",
    "# filter based on identifiers and get sample name and location\n",
    "for line in f:\n",
    "    is_valid = True\n",
    "    for identifier in identifiers:\n",
    "        if not re.findall(identifier, line):\n",
    "            is_valid = False\n",
    "            break\n",
    "\n",
    "    if is_valid:\n",
    "        pieces = line.strip().split('\\t')\n",
    "\n",
    "        sample = pieces[1]\n",
    "        technology = pieces[3]\n",
    "        fp = pieces[5]\n",
    "        \n",
    "        if sample in sample_data:\n",
    "            d = sample_data[sample]\n",
    "            if d['technology'].lower() != 'wxs' and technology.lower() == 'wxs':\n",
    "                sample_data[sample] = {'technology': technology, 'fp': fp}\n",
    "        else:\n",
    "            sample_data[sample] = {'technology': technology, 'fp': fp}\n",
    "len(sample_data), list(sample_data.items())[:5]"
   ]
  },
  {
   "cell_type": "code",
   "execution_count": 7,
   "metadata": {},
   "outputs": [
    {
     "data": {
      "text/plain": [
       "(113,\n",
       " [('C3L-00081',\n",
       "   '/gscmnt/gc2619/dinglab_cptac3/GDC_import/data/ec948c00-910b-4c7b-82a7-4d209d377116/5e04faec-58e8-403f-942b-74e8c0053805_gdc_realn.bam'),\n",
       "  ('C3L-00415',\n",
       "   '/gscmnt/gc2619/dinglab_cptac3/GDC_import/data/9767a9c2-d36b-4cd8-b3bf-e007b9766cc1/ded35b91-a827-4d01-aba8-765d7ba7e4ac_gdc_realn.bam'),\n",
       "  ('C3L-00445',\n",
       "   '/gscmnt/gc2741/ding/CPTAC3-data/GDC_import/data/c84accfb-8a6a-4727-9b19-3ed0e410622e/671050aa-def8-4a5c-9101-f9e53d9e8fe4_wxs_gdc_realn.bam'),\n",
       "  ('C3L-00503',\n",
       "   '/gscmnt/gc2619/dinglab_cptac3/GDC_import/data/24b3b72d-c3cb-4dc9-96d2-3e8cf9230b52/9b1d1a96-4652-4b71-961a-1159746b2e10_gdc_realn.bam'),\n",
       "  ('C3L-00568',\n",
       "   '/gscmnt/gc2619/dinglab_cptac3/GDC_import/data/63c3f570-84a2-4548-b619-ed7c70a38485/556af585-1b23-404c-ae5f-9a74ebc5356b_gdc_realn.bam')])"
      ]
     },
     "execution_count": 7,
     "metadata": {},
     "output_type": "execute_result"
    }
   ],
   "source": [
    "sample_fp_tups = [(k, d['fp']) for k, d in sample_data.items()]\n",
    "len(sample_fp_tups), sample_fp_tups[:5]"
   ]
  },
  {
   "cell_type": "code",
   "execution_count": 10,
   "metadata": {},
   "outputs": [],
   "source": [
    "# write sample to bam location file\n",
    "sample_to_bam_fp = os.path.join(EXECUTION_DIR, 'sample_to_bam.tsv')\n",
    "out_f = open(sample_to_bam_fp, 'w')\n",
    "for sample, fp in sample_fp_tups:\n",
    "    out_f.write(f'{sample}\\t{fp}\\n')\n",
    "out_f.close()"
   ]
  },
  {
   "cell_type": "code",
   "execution_count": 11,
   "metadata": {},
   "outputs": [],
   "source": [
    "os.mkdir(os.path.join(EXECUTION_DIR, 'bams'))"
   ]
  },
  {
   "cell_type": "code",
   "execution_count": 12,
   "metadata": {},
   "outputs": [],
   "source": [
    "# write softlink script\n",
    "softlink_script_fp = os.path.join(EXECUTION_DIR, 'symlink_bams.sh')\n",
    "output_bam_dir = os.path.join(EXECUTION_DIR, 'bams')\n",
    "out_f = open(softlink_script_fp, 'w')\n",
    "for sample, fp in sample_fp_tups:\n",
    "    out_f.write(f'ln -s {fp} {output_bam_dir}/{sample}.bam\\n')\n",
    "out_f.close()"
   ]
  },
  {
   "cell_type": "code",
   "execution_count": null,
   "metadata": {},
   "outputs": [],
   "source": []
  }
 ],
 "metadata": {
  "kernelspec": {
   "display_name": "Python 3",
   "language": "python",
   "name": "python3"
  },
  "language_info": {
   "codemirror_mode": {
    "name": "ipython",
    "version": 3
   },
   "file_extension": ".py",
   "mimetype": "text/x-python",
   "name": "python",
   "nbconvert_exporter": "python",
   "pygments_lexer": "ipython3",
   "version": "3.7.3"
  }
 },
 "nbformat": 4,
 "nbformat_minor": 2
}
