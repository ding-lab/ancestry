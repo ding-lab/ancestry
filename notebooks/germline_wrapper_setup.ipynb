{
 "cells": [
  {
   "cell_type": "code",
   "execution_count": 3,
   "metadata": {},
   "outputs": [],
   "source": [
    "import os\n",
    "import re\n",
    "import subprocess\n",
    "\n",
    "import mgitools.bsub as bsub\n",
    "import mgitools.os_helpers as os_helpers"
   ]
  },
  {
   "cell_type": "code",
   "execution_count": 13,
   "metadata": {},
   "outputs": [],
   "source": [
    "BAM_MAP_LOCATION = '/gscuser/estorrs/CPTAC3.catalog/MGI.BamMap.dat'\n",
    "# BAM_MAP_LOCATION = '/gscuser/estorrs/gbm.bobo.bammap.dat'\n",
    "EXECUTION_DIR = '/gscmnt/gc2508/dinglab/estorrs/cptac3/germline_calling_execution/pdac/hg38/execution'\n",
    "LOG_DIR = '/gscmnt/gc2508/dinglab/estorrs/cptac3/germline_calling_execution/pdac/hg38/indexing'"
   ]
  },
  {
   "cell_type": "markdown",
   "metadata": {},
   "source": [
    "## heirarchy and symlinking"
   ]
  },
  {
   "cell_type": "code",
   "execution_count": 15,
   "metadata": {},
   "outputs": [
    {
     "data": {
      "text/plain": [
       "(154,\n",
       " [('C3L-00017.N',\n",
       "   {'technology': 'WXS',\n",
       "    'fp': '/gscmnt/gc2521/dinglab/mwyczalk/somatic-wrapper-data/GDC_import/data/f99797be-7884-4f95-9052-7637fe7de122/6aa9462a-bda4-4c7e-9049-dfd4e79fab18_gdc_realn.bam'}),\n",
       "  ('C3L-00017.T',\n",
       "   {'technology': 'WXS',\n",
       "    'fp': '/gscmnt/gc2521/dinglab/mwyczalk/somatic-wrapper-data/GDC_import/data/83ea0e10-82b1-4092-b8a4-770e179ef4cd/90daf6b6-b405-431c-bb0d-6f52df3e6ef9_gdc_realn.bam'}),\n",
       "  ('C3L-00102.N',\n",
       "   {'technology': 'WXS',\n",
       "    'fp': '/gscmnt/gc2521/dinglab/mwyczalk/somatic-wrapper-data/GDC_import/data/a4c9d5ea-87f2-4812-bf9e-2a21e0fbd265/b6b55db6-b2f3-4d98-b1d1-3958bf5ae28f_gdc_realn.bam'}),\n",
       "  ('C3L-00102.T',\n",
       "   {'technology': 'WXS',\n",
       "    'fp': '/gscmnt/gc2521/dinglab/mwyczalk/somatic-wrapper-data/GDC_import/data/e4e743cb-4e2d-4ef3-92e9-b6f538ded0c9/945dbda3-ac53-448a-abd8-96ebc5c55b48_gdc_realn.bam'}),\n",
       "  ('C3L-00189.N',\n",
       "   {'technology': 'WXS',\n",
       "    'fp': '/gscmnt/gc2521/dinglab/mwyczalk/somatic-wrapper-data/GDC_import/data/82b6d795-c960-42e3-a2f6-fa488f4f4d3e/7c72d1eb-35b2-4f3b-ac73-db99b0c1832c_gdc_realn.bam'})])"
      ]
     },
     "execution_count": 15,
     "metadata": {},
     "output_type": "execute_result"
    }
   ],
   "source": [
    "f = open(BAM_MAP_LOCATION)\n",
    "sample_data = {}\n",
    "\n",
    "\n",
    "identifiers = [r'WXS', 'hg38', 'BAM', r'blood_normal|tumor', 'PDA']\n",
    "# identifiers = ['blood_normal']\n",
    "\n",
    "\n",
    "# filter based on identifiers and get sample name and location\n",
    "for line in f:\n",
    "    is_valid = True\n",
    "    for identifier in identifiers:\n",
    "        if not re.findall(identifier, line):\n",
    "            is_valid = False\n",
    "            break\n",
    "\n",
    "    if is_valid:\n",
    "        pieces = line.strip().split('\\t')\n",
    "\n",
    "        sample = pieces[1]\n",
    "        technology = pieces[3]\n",
    "        sample_type = pieces[4]\n",
    "        fp = pieces[5]\n",
    "        \n",
    "        if sample_type == 'blood_normal':\n",
    "            sample = sample + '.N'\n",
    "        else:\n",
    "            sample = sample + '.T'\n",
    "        \n",
    "        if sample in sample_data:\n",
    "            sample_data[sample]\n",
    "        \n",
    "        if sample in sample_data:\n",
    "            d = sample_data[sample]\n",
    "            if d['technology'].lower() != 'wxs' and technology.lower() == 'wxs':\n",
    "                sample_data[sample] = {'technology': technology, 'fp': fp}\n",
    "        else:\n",
    "            sample_data[sample] = {'technology': technology, 'fp': fp}\n",
    "\n",
    "len(sample_data), list(sample_data.items())[:5]"
   ]
  },
  {
   "cell_type": "code",
   "execution_count": 16,
   "metadata": {},
   "outputs": [
    {
     "data": {
      "text/plain": [
       "(77,\n",
       " [('C3L-00017',\n",
       "   {'normal': '/gscmnt/gc2521/dinglab/mwyczalk/somatic-wrapper-data/GDC_import/data/f99797be-7884-4f95-9052-7637fe7de122/6aa9462a-bda4-4c7e-9049-dfd4e79fab18_gdc_realn.bam',\n",
       "    'tumor': '/gscmnt/gc2521/dinglab/mwyczalk/somatic-wrapper-data/GDC_import/data/83ea0e10-82b1-4092-b8a4-770e179ef4cd/90daf6b6-b405-431c-bb0d-6f52df3e6ef9_gdc_realn.bam'}),\n",
       "  ('C3L-00102',\n",
       "   {'normal': '/gscmnt/gc2521/dinglab/mwyczalk/somatic-wrapper-data/GDC_import/data/a4c9d5ea-87f2-4812-bf9e-2a21e0fbd265/b6b55db6-b2f3-4d98-b1d1-3958bf5ae28f_gdc_realn.bam',\n",
       "    'tumor': '/gscmnt/gc2521/dinglab/mwyczalk/somatic-wrapper-data/GDC_import/data/e4e743cb-4e2d-4ef3-92e9-b6f538ded0c9/945dbda3-ac53-448a-abd8-96ebc5c55b48_gdc_realn.bam'}),\n",
       "  ('C3L-00189',\n",
       "   {'normal': '/gscmnt/gc2521/dinglab/mwyczalk/somatic-wrapper-data/GDC_import/data/82b6d795-c960-42e3-a2f6-fa488f4f4d3e/7c72d1eb-35b2-4f3b-ac73-db99b0c1832c_gdc_realn.bam',\n",
       "    'tumor': '/gscmnt/gc2521/dinglab/mwyczalk/somatic-wrapper-data/GDC_import/data/64daa7de-55e4-4e5c-8844-6e834137bc83/89bd375b-f0de-4c53-bc3a-0857dd2a02ba_gdc_realn.bam'}),\n",
       "  ('C3L-00277',\n",
       "   {'normal': '/gscmnt/gc2521/dinglab/mwyczalk/somatic-wrapper-data/GDC_import/data/19a7b0c7-b084-4936-8ffb-ebe9b8baf312/596f83a1-5e9c-451b-9087-fbb18efe8447_gdc_realn.bam',\n",
       "    'tumor': '/gscmnt/gc2521/dinglab/mwyczalk/somatic-wrapper-data/GDC_import/data/0fc758f7-93a6-40f6-a12a-1fa472439af0/5d5bbdb1-74e4-4f1d-a025-df1959b77aa1_gdc_realn.bam'}),\n",
       "  ('C3L-00395',\n",
       "   {'normal': '/gscmnt/gc2521/dinglab/mwyczalk/somatic-wrapper-data/GDC_import/data/aa7d45c9-329b-4891-8f8e-e1fce2b9bda5/93b22d31-3cd3-4c13-bc7c-e52fe3a9d69f_gdc_realn.bam',\n",
       "    'tumor': '/gscmnt/gc2521/dinglab/mwyczalk/somatic-wrapper-data/GDC_import/data/f0d9cb1a-46f2-4b05-9917-abd752c8162b/e6e523ac-1f81-4b60-bc4b-240d04fa2753_gdc_realn.bam'})])"
      ]
     },
     "execution_count": 16,
     "metadata": {},
     "output_type": "execute_result"
    }
   ],
   "source": [
    "sample_to_fps = {}\n",
    "for sample, d in sample_data.items():\n",
    "    s_id = sample[:-2]\n",
    "    \n",
    "    if s_id not in sample_to_fps:\n",
    "        sample_to_fps[s_id] = {}\n",
    "    \n",
    "    if sample[-1] == 'N':\n",
    "        sample_to_fps[s_id]['normal'] = d['fp']\n",
    "    else:\n",
    "        sample_to_fps[s_id]['tumor'] = d['fp']\n",
    "len(sample_to_fps), list(sample_to_fps.items())[:5]"
   ]
  },
  {
   "cell_type": "code",
   "execution_count": 17,
   "metadata": {},
   "outputs": [],
   "source": [
    "for sample, d in sample_to_fps.items():\n",
    "    # make directory for sample\n",
    "    os.mkdir(os.path.join(EXECUTION_DIR, sample))\n",
    "    \n",
    "    # link files in directory\n",
    "    for k, fp in d.items():\n",
    "        if k == 'normal':\n",
    "            tool_args = ('ln', '-s', fp, os.path.join(EXECUTION_DIR, sample, f'{sample}.N.bam'))\n",
    "        else:\n",
    "            tool_args = ('ln', '-s', fp, os.path.join(EXECUTION_DIR, sample, f'{sample}.T.bam'))\n",
    "            \n",
    "        subprocess.check_output(tool_args)"
   ]
  },
  {
   "cell_type": "markdown",
   "metadata": {},
   "source": [
    "## indexing"
   ]
  },
  {
   "cell_type": "code",
   "execution_count": 18,
   "metadata": {},
   "outputs": [
    {
     "data": {
      "text/plain": [
       "(154,\n",
       " [('C3N-01997.N',\n",
       "   '/gscmnt/gc2508/dinglab/estorrs/cptac3/germline_calling_execution/pdac/hg38/execution/C3N-01997/C3N-01997.N.bam'),\n",
       "  ('C3N-01997.T',\n",
       "   '/gscmnt/gc2508/dinglab/estorrs/cptac3/germline_calling_execution/pdac/hg38/execution/C3N-01997/C3N-01997.T.bam'),\n",
       "  ('C3N-00514.T',\n",
       "   '/gscmnt/gc2508/dinglab/estorrs/cptac3/germline_calling_execution/pdac/hg38/execution/C3N-00514/C3N-00514.T.bam'),\n",
       "  ('C3N-00514.N',\n",
       "   '/gscmnt/gc2508/dinglab/estorrs/cptac3/germline_calling_execution/pdac/hg38/execution/C3N-00514/C3N-00514.N.bam'),\n",
       "  ('C3N-01169.N',\n",
       "   '/gscmnt/gc2508/dinglab/estorrs/cptac3/germline_calling_execution/pdac/hg38/execution/C3N-01169/C3N-01169.N.bam')])"
      ]
     },
     "execution_count": 18,
     "metadata": {},
     "output_type": "execute_result"
    }
   ],
   "source": [
    "regex = r'.bam$'\n",
    "    \n",
    "fps = list(os_helpers.listfiles(EXECUTION_DIR,\n",
    "                regex=regex))\n",
    "\n",
    "sample_fps_tups = [(fp.split('/')[-1].replace('.bam', ''), fp) for fp in fps]\n",
    "\n",
    "len(sample_fps_tups), sample_fps_tups[:5]"
   ]
  },
  {
   "cell_type": "code",
   "execution_count": 19,
   "metadata": {},
   "outputs": [],
   "source": [
    "image = 'estorrs/slate:0.0.2'\n",
    "\n",
    "# os.mkdir(LOG_DIR)\n",
    "\n",
    "commands, log_files = [], []\n",
    "for s_id, fp in sample_fps_tups:\n",
    "\n",
    "    command = f'samtools index {fp}'\n",
    "    log_fp = os.path.join(LOG_DIR, s_id + '.log')\n",
    "\n",
    "    commands.append(command)\n",
    "    log_files.append(log_fp)\n",
    "        \n",
    "bsub.generate_bsub_bash_script(commands, image, os.path.join(LOG_DIR, 'commands.sh'),\n",
    "                              min_memory=4, max_memory=5, log_files=log_files)"
   ]
  },
  {
   "cell_type": "markdown",
   "metadata": {},
   "source": [
    "## writing executables"
   ]
  },
  {
   "cell_type": "code",
   "execution_count": null,
   "metadata": {},
   "outputs": [],
   "source": []
  }
 ],
 "metadata": {
  "kernelspec": {
   "display_name": "Python 3",
   "language": "python",
   "name": "python3"
  },
  "language_info": {
   "codemirror_mode": {
    "name": "ipython",
    "version": 3
   },
   "file_extension": ".py",
   "mimetype": "text/x-python",
   "name": "python",
   "nbconvert_exporter": "python",
   "pygments_lexer": "ipython3",
   "version": "3.6.8"
  }
 },
 "nbformat": 4,
 "nbformat_minor": 2
}
