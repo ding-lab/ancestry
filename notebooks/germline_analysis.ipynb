{
 "cells": [
  {
   "cell_type": "code",
   "execution_count": 1,
   "metadata": {},
   "outputs": [],
   "source": [
    "from collections import Counter\n",
    "import os\n",
    "import re\n",
    "\n",
    "import pandas as pd\n",
    "import numpy as np\n",
    "import seaborn as sns\n",
    "import matplotlib.pyplot as plt\n",
    "import matplotlib"
   ]
  },
  {
   "cell_type": "code",
   "execution_count": 2,
   "metadata": {},
   "outputs": [],
   "source": [
    "matplotlib.rcParams['pdf.fonttype'] = 42"
   ]
  },
  {
   "cell_type": "code",
   "execution_count": 3,
   "metadata": {},
   "outputs": [],
   "source": [
    "OUTPUT_DIR = '/gscmnt/gc2508/dinglab/estorrs/cptac3/temp'"
   ]
  },
  {
   "cell_type": "code",
   "execution_count": 4,
   "metadata": {},
   "outputs": [],
   "source": [
    "mafs = {\n",
    "    'pda': '/gscmnt/gc2508/dinglab/estorrs/cptac3/germline_calling_execution/pdac/hg38/execution/execution.maf',\n",
    "    'gbm_bobo': '/gscmnt/gc2508/dinglab/estorrs/cptac3/germline_calling_execution/gbm/bobo_hg38/execution/execution.maf',\n",
    "    'gbm': '/gscmnt/gc2508/dinglab/estorrs/cptac3/germline_calling_execution/gbm/hg38/execution/execution.maf',\n",
    "    'ucec': '/gscmnt/gc2518/dinglab/cptac3/hg38/ucec/germline/germline.maf',\n",
    "    'ov': '/gscmnt/gc2508/dinglab/estorrs/cptac3/data/temp/ov.prospective.maf',\n",
    "    'brca': '/gscmnt/gc2508/dinglab/estorrs/cptac3/data/temp/brca.prospective.maf',\n",
    "    'luad': '/gscmnt/gc2508/dinglab/estorrs/cptac3/data/temp/luad.maf',\n",
    "    'ccrcc': '/gscmnt/gc2521/dinglab/cptac3/CCRC/hg38_alignment_call/germline/germline.maf'\n",
    "}"
   ]
  },
  {
   "cell_type": "code",
   "execution_count": 5,
   "metadata": {},
   "outputs": [
    {
     "name": "stdout",
     "output_type": "stream",
     "text": [
      "pda\n",
      "gbm_bobo\n",
      "gbm\n",
      "ucec\n",
      "ov\n",
      "brca\n",
      "luad\n",
      "ccrcc\n"
     ]
    }
   ],
   "source": [
    "cancer_type_to_samples = {k:[] for k in mafs.keys()}\n",
    "for cancer_type, maf in mafs.items():\n",
    "    print(cancer_type)\n",
    "    f = open(maf)\n",
    "    f.readline()\n",
    "\n",
    "    for line in f:\n",
    "        pieces = line.split('\\t', 17)\n",
    "        sample_id = pieces[16][:-2]\n",
    "        cancer_type_to_samples[cancer_type].append(sample_id)"
   ]
  },
  {
   "cell_type": "code",
   "execution_count": 6,
   "metadata": {},
   "outputs": [],
   "source": [
    "cancer_type_to_counter = {}\n",
    "for cancer_type, ls in cancer_type_to_samples.items():\n",
    "    cancer_type_to_counter[cancer_type] = Counter(ls)"
   ]
  },
  {
   "cell_type": "code",
   "execution_count": 7,
   "metadata": {},
   "outputs": [],
   "source": [
    "# combine bobo and gbm\n",
    "cancer_type_to_counter['gbm'].update(cancer_type_to_counter['gbm_bobo'])"
   ]
  },
  {
   "cell_type": "code",
   "execution_count": 8,
   "metadata": {},
   "outputs": [
    {
     "data": {
      "text/plain": [
       "114"
      ]
     },
     "execution_count": 8,
     "metadata": {},
     "output_type": "execute_result"
    }
   ],
   "source": [
    "len(cancer_type_to_counter['gbm'].most_common())"
   ]
  },
  {
   "cell_type": "code",
   "execution_count": 9,
   "metadata": {},
   "outputs": [
    {
     "data": {
      "text/plain": [
       "[('C3N-00738', 29064),\n",
       " ('C3N-00704', 24292),\n",
       " ('C3L-02365', 24093),\n",
       " ('C3L-00510', 24036),\n",
       " ('C3N-00223', 24029)]"
      ]
     },
     "execution_count": 9,
     "metadata": {},
     "output_type": "execute_result"
    }
   ],
   "source": [
    "cancer_type_to_counter['luad'].most_common(5)"
   ]
  },
  {
   "cell_type": "code",
   "execution_count": 10,
   "metadata": {},
   "outputs": [
    {
     "data": {
      "text/html": [
       "<div>\n",
       "<style scoped>\n",
       "    .dataframe tbody tr th:only-of-type {\n",
       "        vertical-align: middle;\n",
       "    }\n",
       "\n",
       "    .dataframe tbody tr th {\n",
       "        vertical-align: top;\n",
       "    }\n",
       "\n",
       "    .dataframe thead th {\n",
       "        text-align: right;\n",
       "    }\n",
       "</style>\n",
       "<table border=\"1\" class=\"dataframe\">\n",
       "  <thead>\n",
       "    <tr style=\"text-align: right;\">\n",
       "      <th></th>\n",
       "      <th>sample id</th>\n",
       "      <th>cancer type</th>\n",
       "      <th>number of germline variants</th>\n",
       "    </tr>\n",
       "  </thead>\n",
       "  <tbody>\n",
       "    <tr>\n",
       "      <th>0</th>\n",
       "      <td>C3L-01703</td>\n",
       "      <td>pda</td>\n",
       "      <td>24144</td>\n",
       "    </tr>\n",
       "    <tr>\n",
       "      <th>1</th>\n",
       "      <td>C3N-01998</td>\n",
       "      <td>pda</td>\n",
       "      <td>24043</td>\n",
       "    </tr>\n",
       "    <tr>\n",
       "      <th>2</th>\n",
       "      <td>C3L-01453</td>\n",
       "      <td>pda</td>\n",
       "      <td>23991</td>\n",
       "    </tr>\n",
       "    <tr>\n",
       "      <th>3</th>\n",
       "      <td>C3N-00249</td>\n",
       "      <td>pda</td>\n",
       "      <td>23980</td>\n",
       "    </tr>\n",
       "    <tr>\n",
       "      <th>4</th>\n",
       "      <td>C3N-01997</td>\n",
       "      <td>pda</td>\n",
       "      <td>23947</td>\n",
       "    </tr>\n",
       "  </tbody>\n",
       "</table>\n",
       "</div>"
      ],
      "text/plain": [
       "   sample id cancer type  number of germline variants\n",
       "0  C3L-01703         pda                        24144\n",
       "1  C3N-01998         pda                        24043\n",
       "2  C3L-01453         pda                        23991\n",
       "3  C3N-00249         pda                        23980\n",
       "4  C3N-01997         pda                        23947"
      ]
     },
     "execution_count": 10,
     "metadata": {},
     "output_type": "execute_result"
    }
   ],
   "source": [
    "d = {'sample id': [], 'cancer type': [], 'number of germline variants': []}\n",
    "for cancer_type, counter in cancer_type_to_counter.items():\n",
    "    if cancer_type != 'gbm_bobo':\n",
    "        for sample_id, count in counter.most_common():\n",
    "            d['sample id'].append(sample_id)\n",
    "            d['cancer type'].append(cancer_type)\n",
    "            d['number of germline variants'].append(count)\n",
    "        \n",
    "df = pd.DataFrame.from_dict(d)\n",
    "df.head()"
   ]
  },
  {
   "cell_type": "code",
   "execution_count": 11,
   "metadata": {},
   "outputs": [
    {
     "name": "stderr",
     "output_type": "stream",
     "text": [
      "/gscmnt/gc2508/dinglab/estorrs/miniconda3/lib/python3.6/site-packages/scipy/stats/stats.py:1713: FutureWarning: Using a non-tuple sequence for multidimensional indexing is deprecated; use `arr[tuple(seq)]` instead of `arr[seq]`. In the future this will be interpreted as an array index, `arr[np.array(seq)]`, which will result either in an error or a different result.\n",
      "  return np.add.reduce(sorted[indexer] * weights, axis=axis) / sumval\n"
     ]
    },
    {
     "data": {
      "image/png": "[encoded data removed]",
      "text/plain": [
       "<Figure size 432x288 with 1 Axes>"
      ]
     },
     "metadata": {
      "needs_background": "light"
     },
     "output_type": "display_data"
    }
   ],
   "source": [
    "order = ['gbm', 'pda', 'ccrcc', 'luad', 'ucec', 'ov', 'brca']\n",
    "\n",
    "colors = {p:'#4878D0' for p in order}\n",
    "\n",
    "colors['ov'] = '#EE854A'\n",
    "colors['brca'] = '#EE854A'\n",
    "\n",
    "\n",
    "ax = sns.violinplot(x=\"cancer type\", y=\"number of germline variants\",\n",
    "        data=df, order=order, palette=colors)\n",
    "\n",
    "# plt.ylabel('number of germline variants', fontsize=16)\n",
    "# plt.xlabel('cancer type', fontsize=16)\n",
    "\n",
    "# plt.xticks(rotation=0, fontsize=12)\n",
    "plt.ylim(0, 40000)\n",
    "\n",
    "plt.savefig(os.path.join(OUTPUT_DIR, 'germline_counts.pdf'), dpi=300)\n",
    "plt.savefig(os.path.join(OUTPUT_DIR, 'germline_counts.png'), dpi=300)"
   ]
  },
  {
   "cell_type": "code",
   "execution_count": null,
   "metadata": {},
   "outputs": [],
   "source": []
  }
 ],
 "metadata": {
  "kernelspec": {
   "display_name": "Python 3",
   "language": "python",
   "name": "python3"
  },
  "language_info": {
   "codemirror_mode": {
    "name": "ipython",
    "version": 3
   },
   "file_extension": ".py",
   "mimetype": "text/x-python",
   "name": "python",
   "nbconvert_exporter": "python",
   "pygments_lexer": "ipython3",
   "version": "3.6.8"
  }
 },
 "nbformat": 4,
 "nbformat_minor": 2
}
