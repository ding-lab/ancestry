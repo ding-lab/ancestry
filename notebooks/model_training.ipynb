{
 "cells": [
  {
   "cell_type": "code",
   "execution_count": 2,
   "metadata": {},
   "outputs": [],
   "source": [
    "import re\n",
    "\n",
    "from sklearn.decomposition import PCA\n",
    "from sklearn.ensemble import RandomForestClassifier\n",
    "from sklearn.model_selection import train_test_split\n",
    "from sklearn.preprocessing import LabelEncoder, StandardScaler, OneHotEncoder\n",
    "import pandas as pd\n",
    "import numpy as np\n",
    "import matplotlib.pyplot as plt"
   ]
  },
  {
   "cell_type": "code",
   "execution_count": 3,
   "metadata": {},
   "outputs": [],
   "source": [
    "def get_vcf_df(vcf_fp, stop_on='#CHROM'):\n",
    "    f = open(vcf_fp)\n",
    "\n",
    "    line = ''\n",
    "    header = ''\n",
    "    while True:\n",
    "        line = f.readline()\n",
    "        if line[:6] == stop_on:\n",
    "            break\n",
    "            \n",
    "    df = pd.read_csv(f, sep='\\t', header=None)\n",
    "    df.columns = line[1:].strip().replace('\"\"', '').split('\\t')\n",
    "    df.index = df['ID']\n",
    "    df.index.name = ''\n",
    "    \n",
    "    # remove X chromosome\n",
    "    df = df[df['CHROM'] != 'X']\n",
    "    \n",
    "    # grab the columns we want\n",
    "    df = df[df.columns[9:]]\n",
    "\n",
    "    # transpose dataframe so samples are rows, mutations are columns\n",
    "    df = df.transpose()\n",
    "    \n",
    "    # replace phased calls\n",
    "    df = df.replace(re.compile(r'^1\\|0'), '0|1')\n",
    "\n",
    "    sample_ids = list(df.index)\n",
    "    \n",
    "    f.close()\n",
    "    \n",
    "    return df, sample_ids"
   ]
  },
  {
   "cell_type": "code",
   "execution_count": null,
   "metadata": {},
   "outputs": [],
   "source": [
    "abbr_to_full = {\n",
    "    'EUR': 'european',\n",
    "    'AFR': 'african',\n",
    "    'SAS': 'south asian',\n",
    "    'EAS': 'east asian',\n",
    "    'AMR': 'south/north american'\n",
    "}\n",
    "\n",
    "def get_ancestry_map(map_fp):\n",
    "    f = open(map_fp)\n",
    "    \n",
    "    # dump header\n",
    "    f.readline()\n",
    "    \n",
    "    ancestry_map = {}\n",
    "    for line in f:\n",
    "        sample_id, ancestry = line.strip().split('\\t')\n",
    "        \n",
    "        # replace ancestry with full name\n",
    "        ancestry = abbr_to_full[ancestry]\n",
    "        \n",
    "        ancestry_map[sample_id] = ancestry\n",
    "        \n",
    "    \n",
    "    return ancestry_map"
   ]
  }
 ],
 "metadata": {
  "kernelspec": {
   "display_name": "Python 3",
   "language": "python",
   "name": "python3"
  },
  "language_info": {
   "codemirror_mode": {
    "name": "ipython",
    "version": 3
   },
   "file_extension": ".py",
   "mimetype": "text/x-python",
   "name": "python",
   "nbconvert_exporter": "python",
   "pygments_lexer": "ipython3",
   "version": "3.6.8"
  }
 },
 "nbformat": 4,
 "nbformat_minor": 2
}
