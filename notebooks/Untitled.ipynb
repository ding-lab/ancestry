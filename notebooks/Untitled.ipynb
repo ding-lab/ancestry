{
 "cells": [
  {
   "cell_type": "code",
   "execution_count": 1,
   "metadata": {},
   "outputs": [],
   "source": [
    "import os\n",
    "import re"
   ]
  },
  {
   "cell_type": "code",
   "execution_count": 3,
   "metadata": {},
   "outputs": [],
   "source": [
    "vcf_fp = '/gscmnt/gc2508/dinglab/estorrs/sandbox/yize/ancestry_execution/vcf/samples.full.vcf'\n",
    "thousand = '/gscmnt/gc2508/dinglab/estorrs/ancestry/data/hg19/all.coding.sorted.02maf.snps.bed'"
   ]
  },
  {
   "cell_type": "code",
   "execution_count": 14,
   "metadata": {},
   "outputs": [
    {
     "data": {
      "text/plain": [
       "107852"
      ]
     },
     "execution_count": 14,
     "metadata": {},
     "output_type": "execute_result"
    }
   ],
   "source": [
    "grab = set()\n",
    "f = open(thousand)\n",
    "for line in f:\n",
    "    grab.add('_'.join(line.split('\\t')[:2]))\n",
    "len(grab)"
   ]
  },
  {
   "cell_type": "code",
   "execution_count": 15,
   "metadata": {},
   "outputs": [],
   "source": [
    "# grab.pop()"
   ]
  },
  {
   "cell_type": "code",
   "execution_count": 16,
   "metadata": {},
   "outputs": [],
   "source": [
    "in_f = open(vcf_fp)\n",
    "out_f = open(vcf_fp.replace('.vcf', '.filtered.vcf'), 'w')\n",
    "\n",
    "in_header = True\n",
    "\n",
    "for line in in_f:\n",
    "    if not in_header:\n",
    "#         print(line)\n",
    "#         print('_'.join(line.split('\\t')[:2]))\n",
    "#         break\n",
    "        if '_'.join(line.split('\\t')[:2]) in grab:\n",
    "            out_f.write(line)\n",
    "    if in_header:\n",
    "        out_f.write(line)\n",
    "    \n",
    "    if '#CHROM' == line[:6]:\n",
    "        in_header = False"
   ]
  },
  {
   "cell_type": "code",
   "execution_count": null,
   "metadata": {},
   "outputs": [],
   "source": []
  }
 ],
 "metadata": {
  "kernelspec": {
   "display_name": "Python 3",
   "language": "python",
   "name": "python3"
  },
  "language_info": {
   "codemirror_mode": {
    "name": "ipython",
    "version": 3
   },
   "file_extension": ".py",
   "mimetype": "text/x-python",
   "name": "python",
   "nbconvert_exporter": "python",
   "pygments_lexer": "ipython3",
   "version": "3.7.3"
  }
 },
 "nbformat": 4,
 "nbformat_minor": 2
}
