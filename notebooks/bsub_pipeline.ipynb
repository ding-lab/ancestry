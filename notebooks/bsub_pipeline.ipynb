{
 "cells": [
  {
   "cell_type": "code",
   "execution_count": 56,
   "metadata": {},
   "outputs": [],
   "source": [
    "import os\n",
    "import re\n",
    "import subprocess\n",
    "\n",
    "import mgitools.bsub as bsub\n",
    "import mgitools.os_helpers as os_helpers"
   ]
  },
  {
   "cell_type": "code",
   "execution_count": 2,
   "metadata": {},
   "outputs": [],
   "source": [
    "# INPUT_BAMS_FOLDER = '/gscmnt/gc2508/dinglab/estorrs/ancestry_data/mm_familial/bams'\n",
    "# EXECUTION_DIRECTORY = '/gscmnt/gc2508/dinglab/estorrs/ancestry_data/mm_familial/execution'\n",
    "\n",
    "# THOUSAND_GENOMES_PANEL = '/gscmnt/gc2508/dinglab/estorrs/ancestry/data/integrated_call_samples_v3.20130502.ALL.panel'\n",
    "# REFERENCE_FASTA = '/gscmnt/gc2737/ding/fernanda/Germline_MMY/FamilialMM/ReferenceFiles/Homo_sapiens.GRCh38.dna.primary_assembly.reordered.fa'\n",
    "# THOUSAND_GENOMES_VCF = '/gscmnt/gc2508/dinglab/estorrs/ancestry/data/hg38/all.coding.sorted.02maf.snps.vcf'\n",
    "# THOUSAND_GENOMES_BED = '/gscmnt/gc2508/dinglab/estorrs/ancestry/data/hg38/all.coding.sorted.02maf.snps.bed'\n"
   ]
  },
  {
   "cell_type": "code",
   "execution_count": null,
   "metadata": {},
   "outputs": [],
   "source": []
  },
  {
   "cell_type": "code",
   "execution_count": 6,
   "metadata": {},
   "outputs": [],
   "source": [
    "run_name = 'gbm/09_13_2019'\n",
    "run_name = 'gbm/09_13_2019'\n",
    "\n",
    "THOUSAND_GENOMES_PANEL = '/gscmnt/gc2508/dinglab/estorrs/ancestry/data/integrated_call_samples_v3.20130502.ALL.panel'\n",
    "\n",
    "EXECUTION_DIRECTORY = f'/gscmnt/gc2508/dinglab/estorrs/cptac3/ancestry_execution/{run_name}'\n",
    "INPUT_BAMS_FOLDER = f'/gscmnt/gc2508/dinglab/estorrs/cptac3/data/{run_name}/bams'\n",
    "\n",
    "THOUSAND_GENOMES_VCF = '/gscmnt/gc2508/dinglab/estorrs/ancestry/data/hg38/all.coding.sorted.02maf.snps.chr.vcf'\n",
    "THOUSAND_GENOMES_BED = '/gscmnt/gc2508/dinglab/estorrs/ancestry/data/hg38/all.coding.sorted.02maf.snps.chr.bed'\n",
    "REFERENCE_FASTA = '/gscmnt/gc2686/rna_editing/data/reference/gdc/GRCh38.d1.vd1.fa'\n",
    "\n",
    "# THOUSAND_GENOMES_VCF = '/gscmnt/gc2508/dinglab/estorrs/ancestry/data/hg19/all.coding.sorted.02maf.snps.vcf'\n",
    "# THOUSAND_GENOMES_BED = '/gscmnt/gc2508/dinglab/estorrs/ancestry/data/hg19/all.coding.sorted.02maf.snps.bed'\n",
    "# REFERENCE_FASTA = '/gscmnt/gc2508/dinglab/estorrs/data/references/hg19/Homo_sapiens_assembly19.fasta'\n",
    "\n",
    "# THOUSAND_GENOMES_VCF = '/gscmnt/gc2508/dinglab/estorrs/ancestry/data/hg19/all.coding.sorted.02maf.snps.chr.vcf'\n",
    "# THOUSAND_GENOMES_BED = '/gscmnt/gc2508/dinglab/estorrs/ancestry/data/hg19/all.coding.sorted.02maf.snps.chr.bed'\n",
    "# REFERENCE_FASTA = '/gscmnt/gc2686/rna_editing/data/reference/ucsc/ucsc.hg19.fa'\n"
   ]
  },
  {
   "cell_type": "code",
   "execution_count": 3,
   "metadata": {},
   "outputs": [],
   "source": [
    "# THOUSAND_GENOMES_PANEL = '/gscmnt/gc2508/dinglab/estorrs/ancestry/data/integrated_call_samples_v3.20130502.ALL.panel'\n",
    "\n",
    "# EXECUTION_DIRECTORY = '/gscmnt/gc2508/dinglab/estorrs/fernanda/01132020/execution'\n",
    "# INPUT_BAMS_FOLDER = '/gscmnt/gc2508/dinglab/estorrs/fernanda/01132020/bams'\n",
    "\n",
    "# THOUSAND_GENOMES_VCF = '/gscmnt/gc2508/dinglab/estorrs/ancestry/data/hg38/all.coding.sorted.02maf.snps.vcf'\n",
    "# THOUSAND_GENOMES_BED = '/gscmnt/gc2508/dinglab/estorrs/ancestry/data/hg38/all.coding.sorted.02maf.snps.bed'\n",
    "# REFERENCE_FASTA = '/gscmnt/gc2737/ding/fernanda/Germline_MMY/FamilialMM/ReferenceFiles/Homo_sapiens.GRCh38.dna.primary_assembly.fa'\n",
    "\n"
   ]
  },
  {
   "cell_type": "code",
   "execution_count": 13,
   "metadata": {},
   "outputs": [],
   "source": [
    "THOUSAND_GENOMES_PANEL = '/gscmnt/gc2508/dinglab/estorrs/ancestry/data/integrated_call_samples_v3.20130502.ALL.panel'\n",
    "\n",
    "EXECUTION_DIRECTORY = f'/gscmnt/gc2508/dinglab/estorrs/ancestry/executions/01132020/execution/'\n",
    "INPUT_BAMS_FOLDER = f'/gscmnt/gc2508/dinglab/estorrs/ancestry/executions/01132020/bams'\n",
    "\n",
    "THOUSAND_GENOMES_VCF = '/gscmnt/gc2508/dinglab/estorrs/ancestry/data/hg38/all.coding.sorted.02maf.snps.chr.vcf'\n",
    "THOUSAND_GENOMES_BED = '/gscmnt/gc2508/dinglab/estorrs/ancestry/data/hg38/all.coding.sorted.02maf.snps.chr.bed'\n",
    "REFERENCE_FASTA = '/gscmnt/gc2686/rna_editing/data/reference/gdc/GRCh38.d1.vd1.fa'"
   ]
  },
  {
   "cell_type": "code",
   "execution_count": 2,
   "metadata": {},
   "outputs": [],
   "source": [
    "THOUSAND_GENOMES_PANEL = '/gscmnt/gc2508/dinglab/estorrs/ancestry/data/integrated_call_samples_v3.20130502.ALL.panel'\n",
    "\n",
    "EXECUTION_DIRECTORY = f'/gscmnt/gc2508/dinglab/estorrs/ancestry/executions/cptac3_lscc/'\n",
    "INPUT_BAMS_FOLDER = f'/gscmnt/gc2508/dinglab/estorrs/ancestry/executions/cptac3_lscc/bams'\n",
    "\n",
    "THOUSAND_GENOMES_VCF = '/gscmnt/gc2508/dinglab/estorrs/ancestry/data/hg38/all.coding.sorted.02maf.snps.chr.vcf'\n",
    "THOUSAND_GENOMES_BED = '/gscmnt/gc2508/dinglab/estorrs/ancestry/data/hg38/all.coding.sorted.02maf.snps.chr.bed'\n",
    "REFERENCE_FASTA = '/gscmnt/gc2686/rna_editing/data/reference/gdc/GRCh38.d1.vd1.fa'"
   ]
  },
  {
   "cell_type": "code",
   "execution_count": 14,
   "metadata": {},
   "outputs": [],
   "source": [
    "THOUSAND_GENOMES_PANEL = '/gscmnt/gc2508/dinglab/estorrs/ancestry/data/integrated_call_samples_v3.20130502.ALL.panel'\n",
    "\n",
    "EXECUTION_DIRECTORY = f'/gscmnt/gc2508/dinglab/estorrs/sandbox/fernanda/ancestry_execution'\n",
    "INPUT_BAMS_FOLDER = f'/gscmnt/gc2508/dinglab/estorrs/sandbox/fernanda/ancestry_execution/data'\n",
    "\n",
    "THOUSAND_GENOMES_VCF = '/gscmnt/gc2508/dinglab/estorrs/ancestry/data/hg19/all.coding.sorted.02maf.snps.vcf'\n",
    "THOUSAND_GENOMES_BED = '/gscmnt/gc2508/dinglab/estorrs/ancestry/data/hg19/all.coding.sorted.02maf.snps.bed'\n",
    "\n",
    "REFERENCE_FASTA = '/gscmnt/gc2508/dinglab/estorrs/data/references/hg19/Homo_sapiens_assembly19.fasta'"
   ]
  },
  {
   "cell_type": "code",
   "execution_count": 1,
   "metadata": {},
   "outputs": [],
   "source": [
    "THOUSAND_GENOMES_PANEL = '/gscmnt/gc2508/dinglab/estorrs/ancestry/data/integrated_call_samples_v3.20130502.ALL.panel'\n",
    "\n",
    "EXECUTION_DIRECTORY = f'/gscmnt/gc2508/dinglab/estorrs/ancestry/executions/nadja/cptac_pda_08182020/execution/'\n",
    "INPUT_BAMS_FOLDER = f'/gscmnt/gc2508/dinglab/estorrs/ancestry/executions/nadja/cptac_pda_08182020/execution/bams'\n",
    "\n",
    "THOUSAND_GENOMES_VCF = '/gscmnt/gc2508/dinglab/estorrs/ancestry/data/hg38/all.coding.sorted.02maf.snps.chr.vcf'\n",
    "THOUSAND_GENOMES_BED = '/gscmnt/gc2508/dinglab/estorrs/ancestry/data/hg38/all.coding.sorted.02maf.snps.chr.bed'\n",
    "REFERENCE_FASTA = '/gscmnt/gc2686/rna_editing/data/reference/gdc/GRCh38.d1.vd1.fa'"
   ]
  },
  {
   "cell_type": "code",
   "execution_count": 35,
   "metadata": {},
   "outputs": [],
   "source": [
    "THOUSAND_GENOMES_PANEL = '/gscmnt/gc2508/dinglab/estorrs/ancestry/data/integrated_call_samples_v3.20130502.ALL.panel'\n",
    "\n",
    "EXECUTION_DIRECTORY = f'/gscmnt/gc2508/dinglab/estorrs/ancestry/executions/fernanda/pkd_final'\n",
    "INPUT_BAMS_FOLDER = f'/gscmnt/gc2508/dinglab/estorrs/ancestry/executions/fernanda/pkd_final/bams'\n",
    "\n",
    "THOUSAND_GENOMES_VCF = '/gscmnt/gc2508/dinglab/estorrs/ancestry/data/hg38/all.coding.sorted.02maf.snps.chr.vcf'\n",
    "THOUSAND_GENOMES_BED = '/gscmnt/gc2508/dinglab/estorrs/ancestry/data/hg38/all.coding.sorted.02maf.snps.chr.bed'\n",
    "REFERENCE_FASTA = '/gscmnt/gc2560/core/model_data/2887491634/build21f22873ebe0486c8e6f69c15435aa96/all_sequences.fa'"
   ]
  },
  {
   "cell_type": "code",
   "execution_count": 42,
   "metadata": {},
   "outputs": [],
   "source": [
    "THOUSAND_GENOMES_PANEL = '/gscmnt/gc2508/dinglab/estorrs/ancestry/data/integrated_call_samples_v3.20130502.ALL.panel'\n",
    "\n",
    "EXECUTION_DIRECTORY = f'/gscmnt/gc2508/dinglab/estorrs/ancestry/executions/yize/sample_mismatch'\n",
    "INPUT_BAMS_FOLDER = f'/gscmnt/gc2508/dinglab/estorrs/ancestry/executions/yize/sample_mismatch/bams'\n",
    "\n",
    "THOUSAND_GENOMES_VCF = '/gscmnt/gc2508/dinglab/estorrs/ancestry/data/hg38/all.coding.sorted.02maf.snps.chr.vcf'\n",
    "THOUSAND_GENOMES_BED = '/gscmnt/gc2508/dinglab/estorrs/ancestry/data/hg38/all.coding.sorted.02maf.snps.chr.bed'\n",
    "REFERENCE_FASTA = '/gscmnt/gc2560/core/model_data/2887491634/build21f22873ebe0486c8e6f69c15435aa96/all_sequences.fa'"
   ]
  },
  {
   "cell_type": "code",
   "execution_count": 1,
   "metadata": {},
   "outputs": [],
   "source": [
    "THOUSAND_GENOMES_PANEL = '/gscmnt/gc2508/dinglab/estorrs/ancestry/data/integrated_call_samples_v3.20130502.ALL.panel'\n",
    "\n",
    "EXECUTION_DIRECTORY = f'/gscmnt/gc2508/dinglab/estorrs/ancestry/executions/fernanda/12032020/execution/'\n",
    "INPUT_BAMS_FOLDER = f'/gscmnt/gc2508/dinglab/estorrs/ancestry/executions/fernanda/12032020/execution/bams'\n",
    "\n",
    "THOUSAND_GENOMES_VCF = '/gscmnt/gc2508/dinglab/estorrs/ancestry/data/hg38/all.coding.sorted.02maf.snps.vcf'\n",
    "THOUSAND_GENOMES_BED = '/gscmnt/gc2508/dinglab/estorrs/ancestry/data/hg38/all.coding.sorted.02maf.snps.bed'\n",
    "REFERENCE_FASTA = '/gscmnt/gc2737/ding/fernanda/Germline_MMY/FamilialMM/ReferenceFiles/Homo_sapiens.GRCh38.dna.primary_assembly.reordered.fa'"
   ]
  },
  {
   "cell_type": "code",
   "execution_count": 13,
   "metadata": {},
   "outputs": [],
   "source": [
    "THOUSAND_GENOMES_PANEL = '/gscmnt/gc2508/dinglab/estorrs/ancestry/data/integrated_call_samples_v3.20130502.ALL.panel'\n",
    "\n",
    "EXECUTION_DIRECTORY = f'/gscmnt/gc2508/dinglab/estorrs/ancestry/executions/cptac2_br'\n",
    "INPUT_BAMS_FOLDER = f'/gscmnt/gc2508/dinglab/estorrs/ancestry/executions/cptac2_br/bams/'\n",
    "\n",
    "THOUSAND_GENOMES_VCF = '/gscmnt/gc2508/dinglab/estorrs/ancestry/data/hg38/all.coding.sorted.02maf.snps.chr.vcf'\n",
    "THOUSAND_GENOMES_BED = '/gscmnt/gc2508/dinglab/estorrs/ancestry/data/hg38/all.coding.sorted.02maf.snps.chr.bed'\n",
    "REFERENCE_FASTA = '/gscmnt/gc2508/dinglab/nvterekhanova/cptac/germline_calling/GermWrap_processed/references/GRCh38.d1.vd1.fa/GRCh38.d1.vd1.fa'\n"
   ]
  },
  {
   "cell_type": "code",
   "execution_count": 33,
   "metadata": {},
   "outputs": [],
   "source": [
    "THOUSAND_GENOMES_PANEL = '/gscmnt/gc2508/dinglab/estorrs/ancestry/data/integrated_call_samples_v3.20130502.ALL.panel'\n",
    "\n",
    "EXECUTION_DIRECTORY = f'/gscmnt/gc2508/dinglab/estorrs/ancestry/executions/cptac3_gbm'\n",
    "INPUT_BAMS_FOLDER = f'/gscmnt/gc2508/dinglab/estorrs/ancestry/executions/cptac3_gbm/bams/'\n",
    "\n",
    "THOUSAND_GENOMES_VCF = '/gscmnt/gc2508/dinglab/estorrs/ancestry/data/hg38/all.coding.sorted.02maf.snps.chr.vcf'\n",
    "THOUSAND_GENOMES_BED = '/gscmnt/gc2508/dinglab/estorrs/ancestry/data/hg38/all.coding.sorted.02maf.snps.chr.bed'\n",
    "REFERENCE_FASTA = '/gscmnt/gc2508/dinglab/nvterekhanova/cptac/germline_calling/GermWrap_processed/references/GRCh38.d1.vd1.fa/GRCh38.d1.vd1.fa'\n"
   ]
  },
  {
   "cell_type": "code",
   "execution_count": 45,
   "metadata": {},
   "outputs": [],
   "source": [
    "THOUSAND_GENOMES_PANEL = '/gscmnt/gc2508/dinglab/estorrs/ancestry/data/integrated_call_samples_v3.20130502.ALL.panel'\n",
    "\n",
    "EXECUTION_DIRECTORY = f'/gscmnt/gc2508/dinglab/estorrs/ancestry/executions/tgct'\n",
    "INPUT_BAMS_FOLDER = f'/gscmnt/gc2508/dinglab/estorrs/ancestry/executions/tgct/bams/'\n",
    "\n",
    "THOUSAND_GENOMES_VCF = '/gscmnt/gc2508/dinglab/estorrs/ancestry/data/hg38/all.coding.sorted.02maf.snps.chr.vcf'\n",
    "THOUSAND_GENOMES_BED = '/gscmnt/gc2508/dinglab/estorrs/ancestry/data/hg38/all.coding.sorted.02maf.snps.chr.bed'\n",
    "REFERENCE_FASTA = '/gscmnt/gc2686/rna_editing/data/reference/gdc/GRCh38.d1.vd1.fa'\n"
   ]
  },
  {
   "cell_type": "code",
   "execution_count": 94,
   "metadata": {},
   "outputs": [],
   "source": [
    "THOUSAND_GENOMES_PANEL = '/gscmnt/gc2508/dinglab/estorrs/ancestry/data/integrated_call_samples_v3.20130502.ALL.panel'\n",
    "\n",
    "EXECUTION_DIRECTORY = f'/gscmnt/gc2508/dinglab/estorrs/ancestry/executions/yize/03162021_batch1/'\n",
    "INPUT_BAMS_FOLDER = f'/gscmnt/gc2508/dinglab/estorrs/ancestry/executions/yize/03162021_batch1/bams/'\n",
    "\n",
    "THOUSAND_GENOMES_VCF = '/gscmnt/gc2508/dinglab/estorrs/ancestry/data/hg38/all.coding.sorted.02maf.snps.chr.vcf'\n",
    "THOUSAND_GENOMES_BED = '/gscmnt/gc2508/dinglab/estorrs/ancestry/data/hg38/all.coding.sorted.02maf.snps.chr.bed'\n",
    "REFERENCE_FASTA = '/gscmnt/gc2686/rna_editing/data/reference/gdc/GRCh38.d1.vd1.fa'\n"
   ]
  },
  {
   "cell_type": "code",
   "execution_count": 100,
   "metadata": {},
   "outputs": [],
   "source": [
    "THOUSAND_GENOMES_PANEL = '/gscmnt/gc2508/dinglab/estorrs/ancestry/data/integrated_call_samples_v3.20130502.ALL.panel'\n",
    "\n",
    "EXECUTION_DIRECTORY = f'/gscmnt/gc2508/dinglab/estorrs/ancestry/executions/yize/03162021_batch2/'\n",
    "INPUT_BAMS_FOLDER = f'/gscmnt/gc2508/dinglab/estorrs/ancestry/executions/yize/03162021_batch2/bams/'\n",
    "\n",
    "THOUSAND_GENOMES_VCF = '/gscmnt/gc2508/dinglab/estorrs/ancestry/data/hg38/all.coding.sorted.02maf.snps.chr.vcf'\n",
    "THOUSAND_GENOMES_BED = '/gscmnt/gc2508/dinglab/estorrs/ancestry/data/hg38/all.coding.sorted.02maf.snps.chr.bed'\n",
    "REFERENCE_FASTA = '/gscmnt/gc2686/rna_editing/data/reference/gdc/GRCh38.d1.vd1.fa'\n"
   ]
  },
  {
   "cell_type": "markdown",
   "metadata": {},
   "source": [
    "## slate"
   ]
  },
  {
   "cell_type": "code",
   "execution_count": 82,
   "metadata": {},
   "outputs": [
    {
     "ename": "FileExistsError",
     "evalue": "[Errno 17] File exists: '/gscmnt/gc2508/dinglab/estorrs/ancestry/executions/yize/03162021_batch1/slate'",
     "output_type": "error",
     "traceback": [
      "\u001b[0;31m---------------------------------------------------------------------------\u001b[0m",
      "\u001b[0;31mFileExistsError\u001b[0m                           Traceback (most recent call last)",
      "\u001b[0;32m<ipython-input-82-e2a526bb00ee>\u001b[0m in \u001b[0;36m<module>\u001b[0;34m\u001b[0m\n\u001b[0;32m----> 1\u001b[0;31m \u001b[0mos\u001b[0m\u001b[0;34m.\u001b[0m\u001b[0mmkdir\u001b[0m\u001b[0;34m(\u001b[0m\u001b[0mos\u001b[0m\u001b[0;34m.\u001b[0m\u001b[0mpath\u001b[0m\u001b[0;34m.\u001b[0m\u001b[0mjoin\u001b[0m\u001b[0;34m(\u001b[0m\u001b[0mEXECUTION_DIRECTORY\u001b[0m\u001b[0;34m,\u001b[0m \u001b[0;34m'slate'\u001b[0m\u001b[0;34m)\u001b[0m\u001b[0;34m)\u001b[0m\u001b[0;34m\u001b[0m\u001b[0;34m\u001b[0m\u001b[0m\n\u001b[0m\u001b[1;32m      2\u001b[0m \u001b[0mos\u001b[0m\u001b[0;34m.\u001b[0m\u001b[0mmkdir\u001b[0m\u001b[0;34m(\u001b[0m\u001b[0mos\u001b[0m\u001b[0;34m.\u001b[0m\u001b[0mpath\u001b[0m\u001b[0;34m.\u001b[0m\u001b[0mjoin\u001b[0m\u001b[0;34m(\u001b[0m\u001b[0mEXECUTION_DIRECTORY\u001b[0m\u001b[0;34m,\u001b[0m \u001b[0;34m'slate'\u001b[0m\u001b[0;34m,\u001b[0m \u001b[0;34m'results'\u001b[0m\u001b[0;34m)\u001b[0m\u001b[0;34m)\u001b[0m\u001b[0;34m\u001b[0m\u001b[0;34m\u001b[0m\u001b[0m\n\u001b[1;32m      3\u001b[0m \u001b[0mos\u001b[0m\u001b[0;34m.\u001b[0m\u001b[0mmkdir\u001b[0m\u001b[0;34m(\u001b[0m\u001b[0mos\u001b[0m\u001b[0;34m.\u001b[0m\u001b[0mpath\u001b[0m\u001b[0;34m.\u001b[0m\u001b[0mjoin\u001b[0m\u001b[0;34m(\u001b[0m\u001b[0mEXECUTION_DIRECTORY\u001b[0m\u001b[0;34m,\u001b[0m \u001b[0;34m'slate'\u001b[0m\u001b[0;34m,\u001b[0m \u001b[0;34m'logs'\u001b[0m\u001b[0;34m)\u001b[0m\u001b[0;34m)\u001b[0m\u001b[0;34m\u001b[0m\u001b[0;34m\u001b[0m\u001b[0m\n",
      "\u001b[0;31mFileExistsError\u001b[0m: [Errno 17] File exists: '/gscmnt/gc2508/dinglab/estorrs/ancestry/executions/yize/03162021_batch1/slate'"
     ]
    }
   ],
   "source": [
    "os.mkdir(os.path.join(EXECUTION_DIRECTORY, 'slate'))\n",
    "os.mkdir(os.path.join(EXECUTION_DIRECTORY, 'slate', 'results'))\n",
    "os.mkdir(os.path.join(EXECUTION_DIRECTORY, 'slate', 'logs'))"
   ]
  },
  {
   "cell_type": "code",
   "execution_count": 88,
   "metadata": {},
   "outputs": [
    {
     "data": {
      "text/plain": [
       "(36,\n",
       " [('851577_1',\n",
       "   '/gscmnt/gc2508/dinglab/estorrs/ancestry/executions/yize/03162021_batch2/bams/851577_1.bam'),\n",
       "  ('856677_blood',\n",
       "   '/gscmnt/gc2508/dinglab/estorrs/ancestry/executions/yize/03162021_batch2/bams/856677_blood.bam'),\n",
       "  ('857890_2',\n",
       "   '/gscmnt/gc2508/dinglab/estorrs/ancestry/executions/yize/03162021_batch2/bams/857890_2.bam'),\n",
       "  ('856677_1',\n",
       "   '/gscmnt/gc2508/dinglab/estorrs/ancestry/executions/yize/03162021_batch2/bams/856677_1.bam'),\n",
       "  ('856677_2',\n",
       "   '/gscmnt/gc2508/dinglab/estorrs/ancestry/executions/yize/03162021_batch2/bams/856677_2.bam')])"
      ]
     },
     "execution_count": 88,
     "metadata": {},
     "output_type": "execute_result"
    }
   ],
   "source": [
    "fps = [(fp.split('/')[-1].replace('.bam', ''), os.path.join(INPUT_BAMS_FOLDER, fp))\n",
    "       for fp in os.listdir(INPUT_BAMS_FOLDER)\n",
    "        if not fp[-4:] == '.bai']\n",
    "len(fps), fps[:5]"
   ]
  },
  {
   "cell_type": "code",
   "execution_count": 89,
   "metadata": {},
   "outputs": [],
   "source": [
    "def get_slate_command(input_bam_fp, readcount_fp, trimmed_bam_fp):\n",
    "    return f'python /slate/slate/slate.py --min-base-quality 20 --min-mapping-quality 20 \\\n",
    "--fasta {REFERENCE_FASTA} --positions {THOUSAND_GENOMES_BED} \\\n",
    "--readcount-output {readcount_fp} --filtered-bam-output {trimmed_bam_fp} {input_bam_fp}'"
   ]
  },
  {
   "cell_type": "code",
   "execution_count": 90,
   "metadata": {},
   "outputs": [],
   "source": [
    "slate_image = 'estorrs/slate:0.0.2'\n",
    "\n",
    "commands, log_files = [], []\n",
    "for s_id, fp in fps:\n",
    "\n",
    "    command = get_slate_command(fp,\n",
    "                                os.path.join(EXECUTION_DIRECTORY, 'slate', 'results', s_id + '.readcount'),\n",
    "                                os.path.join(EXECUTION_DIRECTORY, 'slate', 'results', s_id + '.filtered.bam'))\n",
    "    log_fp = os.path.join(EXECUTION_DIRECTORY, 'slate', 'logs', s_id + '.log')\n",
    "\n",
    "    commands.append(command)\n",
    "    log_files.append(log_fp)\n",
    "        \n",
    "bsub.generate_bsub_bash_script(commands, slate_image, os.path.join(EXECUTION_DIRECTORY, 'slate', 'commands.sh'),\n",
    "                              min_memory=4, max_memory=5, log_files=log_files)"
   ]
  },
  {
   "cell_type": "markdown",
   "metadata": {},
   "source": [
    "## run genotype caller"
   ]
  },
  {
   "cell_type": "code",
   "execution_count": 91,
   "metadata": {},
   "outputs": [
    {
     "ename": "FileExistsError",
     "evalue": "[Errno 17] File exists: '/gscmnt/gc2508/dinglab/estorrs/ancestry/executions/yize/03162021_batch2/genotype_calling'",
     "output_type": "error",
     "traceback": [
      "\u001b[0;31m---------------------------------------------------------------------------\u001b[0m",
      "\u001b[0;31mFileExistsError\u001b[0m                           Traceback (most recent call last)",
      "\u001b[0;32m<ipython-input-91-89df50614331>\u001b[0m in \u001b[0;36m<module>\u001b[0;34m\u001b[0m\n\u001b[0;32m----> 1\u001b[0;31m \u001b[0mos\u001b[0m\u001b[0;34m.\u001b[0m\u001b[0mmkdir\u001b[0m\u001b[0;34m(\u001b[0m\u001b[0mos\u001b[0m\u001b[0;34m.\u001b[0m\u001b[0mpath\u001b[0m\u001b[0;34m.\u001b[0m\u001b[0mjoin\u001b[0m\u001b[0;34m(\u001b[0m\u001b[0mEXECUTION_DIRECTORY\u001b[0m\u001b[0;34m,\u001b[0m \u001b[0;34m'genotype_calling'\u001b[0m\u001b[0;34m)\u001b[0m\u001b[0;34m)\u001b[0m\u001b[0;34m\u001b[0m\u001b[0;34m\u001b[0m\u001b[0m\n\u001b[0m\u001b[1;32m      2\u001b[0m \u001b[0mos\u001b[0m\u001b[0;34m.\u001b[0m\u001b[0mmkdir\u001b[0m\u001b[0;34m(\u001b[0m\u001b[0mos\u001b[0m\u001b[0;34m.\u001b[0m\u001b[0mpath\u001b[0m\u001b[0;34m.\u001b[0m\u001b[0mjoin\u001b[0m\u001b[0;34m(\u001b[0m\u001b[0mEXECUTION_DIRECTORY\u001b[0m\u001b[0;34m,\u001b[0m \u001b[0;34m'genotype_calling'\u001b[0m\u001b[0;34m,\u001b[0m \u001b[0;34m'results'\u001b[0m\u001b[0;34m)\u001b[0m\u001b[0;34m)\u001b[0m\u001b[0;34m\u001b[0m\u001b[0;34m\u001b[0m\u001b[0m\n\u001b[1;32m      3\u001b[0m \u001b[0mos\u001b[0m\u001b[0;34m.\u001b[0m\u001b[0mmkdir\u001b[0m\u001b[0;34m(\u001b[0m\u001b[0mos\u001b[0m\u001b[0;34m.\u001b[0m\u001b[0mpath\u001b[0m\u001b[0;34m.\u001b[0m\u001b[0mjoin\u001b[0m\u001b[0;34m(\u001b[0m\u001b[0mEXECUTION_DIRECTORY\u001b[0m\u001b[0;34m,\u001b[0m \u001b[0;34m'genotype_calling'\u001b[0m\u001b[0;34m,\u001b[0m \u001b[0;34m'logs'\u001b[0m\u001b[0;34m)\u001b[0m\u001b[0;34m)\u001b[0m\u001b[0;34m\u001b[0m\u001b[0;34m\u001b[0m\u001b[0m\n",
      "\u001b[0;31mFileExistsError\u001b[0m: [Errno 17] File exists: '/gscmnt/gc2508/dinglab/estorrs/ancestry/executions/yize/03162021_batch2/genotype_calling'"
     ]
    }
   ],
   "source": [
    "os.mkdir(os.path.join(EXECUTION_DIRECTORY, 'genotype_calling'))\n",
    "os.mkdir(os.path.join(EXECUTION_DIRECTORY, 'genotype_calling', 'results'))\n",
    "os.mkdir(os.path.join(EXECUTION_DIRECTORY, 'genotype_calling', 'logs'))"
   ]
  },
  {
   "cell_type": "code",
   "execution_count": 95,
   "metadata": {},
   "outputs": [],
   "source": [
    "def get_genotype_calling_command(readcount_dir, output_fp):\n",
    "    return f'python  /gscmnt/gc2508/dinglab/estorrs/ancestry/ancestry/readcount_caller.py \\\n",
    "--readcount-dir {readcount_dir} --genomes-vcf {THOUSAND_GENOMES_VCF} \\\n",
    "--output {output_fp}'"
   ]
  },
  {
   "cell_type": "code",
   "execution_count": 96,
   "metadata": {},
   "outputs": [],
   "source": [
    "command = get_genotype_calling_command(\n",
    "        os.path.join(EXECUTION_DIRECTORY, 'slate', 'results'),\n",
    "        os.path.join(EXECUTION_DIRECTORY, 'genotype_calling', 'results', 'output.vcf'))\n",
    "log_fp = os.path.join(EXECUTION_DIRECTORY, 'genotype_calling', 'logs', 'output.log')\n",
    "\n",
    "bsub.generate_bsub_bash_script([command], 'amancevice/pandas',\n",
    "                               os.path.join(EXECUTION_DIRECTORY, 'genotype_calling', 'commands.sh'),\n",
    "                              min_memory=100, max_memory=100, log_files=[log_fp])"
   ]
  },
  {
   "cell_type": "markdown",
   "metadata": {},
   "source": [
    "### run ancestry prediction analysis"
   ]
  },
  {
   "cell_type": "code",
   "execution_count": 7,
   "metadata": {},
   "outputs": [],
   "source": [
    "# THOUSAND_GENOMES_VCF = '/gscmnt/gc2508/dinglab/estorrs/ancestry/data/hg19/all.coding.sorted.02maf.snps.vcf'\n",
    "# THOUSAND_GENOMES_BED = '/gscmnt/gc2508/dinglab/estorrs/ancestry/data/hg19/all.coding.sorted.02maf.snps.bed'\n",
    "# REFERENCE_FASTA = '/gscmnt/gc2508/dinglab/estorrs/data/references/hg19/Homo_sapiens_assembly19.fasta'\n",
    "\n",
    "# EXECUTION_DIRECTORY = '/gscmnt/gc2508/dinglab/estorrs/sandbox/yize/ancestry_execution/'"
   ]
  },
  {
   "cell_type": "code",
   "execution_count": 97,
   "metadata": {},
   "outputs": [
    {
     "ename": "FileExistsError",
     "evalue": "[Errno 17] File exists: '/gscmnt/gc2508/dinglab/estorrs/ancestry/executions/yize/03162021_batch1/ancestry_prediction'",
     "output_type": "error",
     "traceback": [
      "\u001b[0;31m---------------------------------------------------------------------------\u001b[0m",
      "\u001b[0;31mFileExistsError\u001b[0m                           Traceback (most recent call last)",
      "\u001b[0;32m<ipython-input-97-a94c872055f3>\u001b[0m in \u001b[0;36m<module>\u001b[0;34m\u001b[0m\n\u001b[0;32m----> 1\u001b[0;31m \u001b[0mos\u001b[0m\u001b[0;34m.\u001b[0m\u001b[0mmkdir\u001b[0m\u001b[0;34m(\u001b[0m\u001b[0mos\u001b[0m\u001b[0;34m.\u001b[0m\u001b[0mpath\u001b[0m\u001b[0;34m.\u001b[0m\u001b[0mjoin\u001b[0m\u001b[0;34m(\u001b[0m\u001b[0mEXECUTION_DIRECTORY\u001b[0m\u001b[0;34m,\u001b[0m \u001b[0;34m'ancestry_prediction'\u001b[0m\u001b[0;34m)\u001b[0m\u001b[0;34m)\u001b[0m\u001b[0;34m\u001b[0m\u001b[0;34m\u001b[0m\u001b[0m\n\u001b[0m\u001b[1;32m      2\u001b[0m \u001b[0mos\u001b[0m\u001b[0;34m.\u001b[0m\u001b[0mmkdir\u001b[0m\u001b[0;34m(\u001b[0m\u001b[0mos\u001b[0m\u001b[0;34m.\u001b[0m\u001b[0mpath\u001b[0m\u001b[0;34m.\u001b[0m\u001b[0mjoin\u001b[0m\u001b[0;34m(\u001b[0m\u001b[0mEXECUTION_DIRECTORY\u001b[0m\u001b[0;34m,\u001b[0m \u001b[0;34m'ancestry_prediction'\u001b[0m\u001b[0;34m,\u001b[0m \u001b[0;34m'results'\u001b[0m\u001b[0;34m)\u001b[0m\u001b[0;34m)\u001b[0m\u001b[0;34m\u001b[0m\u001b[0;34m\u001b[0m\u001b[0m\n\u001b[1;32m      3\u001b[0m \u001b[0mos\u001b[0m\u001b[0;34m.\u001b[0m\u001b[0mmkdir\u001b[0m\u001b[0;34m(\u001b[0m\u001b[0mos\u001b[0m\u001b[0;34m.\u001b[0m\u001b[0mpath\u001b[0m\u001b[0;34m.\u001b[0m\u001b[0mjoin\u001b[0m\u001b[0;34m(\u001b[0m\u001b[0mEXECUTION_DIRECTORY\u001b[0m\u001b[0;34m,\u001b[0m \u001b[0;34m'ancestry_prediction'\u001b[0m\u001b[0;34m,\u001b[0m \u001b[0;34m'logs'\u001b[0m\u001b[0;34m)\u001b[0m\u001b[0;34m)\u001b[0m\u001b[0;34m\u001b[0m\u001b[0;34m\u001b[0m\u001b[0m\n",
      "\u001b[0;31mFileExistsError\u001b[0m: [Errno 17] File exists: '/gscmnt/gc2508/dinglab/estorrs/ancestry/executions/yize/03162021_batch1/ancestry_prediction'"
     ]
    }
   ],
   "source": [
    "os.mkdir(os.path.join(EXECUTION_DIRECTORY, 'ancestry_prediction'))\n",
    "os.mkdir(os.path.join(EXECUTION_DIRECTORY, 'ancestry_prediction', 'results'))\n",
    "os.mkdir(os.path.join(EXECUTION_DIRECTORY, 'ancestry_prediction', 'logs'))"
   ]
  },
  {
   "cell_type": "code",
   "execution_count": 101,
   "metadata": {},
   "outputs": [],
   "source": [
    "def get_ancestry_prediction_command(output_dir, sample_vcf_fp):\n",
    "    return f'python  /gscmnt/gc2508/dinglab/estorrs/ancestry/ancestry/ancestry_cli.py \\\n",
    "--output-dir {output_dir} {THOUSAND_GENOMES_VCF} {THOUSAND_GENOMES_PANEL} {sample_vcf_fp}'"
   ]
  },
  {
   "cell_type": "code",
   "execution_count": 102,
   "metadata": {},
   "outputs": [],
   "source": [
    "command = get_ancestry_prediction_command(\n",
    "        os.path.join(EXECUTION_DIRECTORY, 'ancestry_prediction', 'results'),\n",
    "        os.path.join(EXECUTION_DIRECTORY, 'genotype_calling', 'results', 'output.vcf'))\n",
    "#         os.path.join(EXECUTION_DIRECTORY, 'vcf', 'samples.vcf'))\n",
    "log_fp = os.path.join(EXECUTION_DIRECTORY, 'ancestry_prediction', 'logs', 'output.log')\n",
    "\n",
    "bsub.generate_bsub_bash_script([command], 'amancevice/pandas',\n",
    "                               os.path.join(EXECUTION_DIRECTORY, 'ancestry_prediction', 'commands.sh'),\n",
    "                              min_memory=100, max_memory=100, log_files=[log_fp])"
   ]
  },
  {
   "cell_type": "code",
   "execution_count": null,
   "metadata": {},
   "outputs": [],
   "source": []
  }
 ],
 "metadata": {
  "kernelspec": {
   "display_name": "Python 3",
   "language": "python",
   "name": "python3"
  },
  "language_info": {
   "codemirror_mode": {
    "name": "ipython",
    "version": 3
   },
   "file_extension": ".py",
   "mimetype": "text/x-python",
   "name": "python",
   "nbconvert_exporter": "python",
   "pygments_lexer": "ipython3",
   "version": "3.7.3"
  }
 },
 "nbformat": 4,
 "nbformat_minor": 2
}
