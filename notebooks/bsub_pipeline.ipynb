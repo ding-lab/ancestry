{
 "cells": [
  {
   "cell_type": "code",
   "execution_count": 1,
   "metadata": {},
   "outputs": [],
   "source": [
    "import os\n",
    "import re\n",
    "import subprocess\n",
    "\n",
    "import mgitools.bsub as bsub\n",
    "import mgitools.os_helpers as os_helpers"
   ]
  },
  {
   "cell_type": "code",
   "execution_count": 2,
   "metadata": {},
   "outputs": [],
   "source": [
    "# INPUT_BAMS_FOLDER = '/gscmnt/gc2508/dinglab/estorrs/ancestry_data/mm_familial/bams'\n",
    "# EXECUTION_DIRECTORY = '/gscmnt/gc2508/dinglab/estorrs/ancestry_data/mm_familial/execution'\n",
    "\n",
    "# THOUSAND_GENOMES_PANEL = '/gscmnt/gc2508/dinglab/estorrs/ancestry/data/integrated_call_samples_v3.20130502.ALL.panel'\n",
    "# REFERENCE_FASTA = '/gscmnt/gc2737/ding/fernanda/Germline_MMY/FamilialMM/ReferenceFiles/Homo_sapiens.GRCh38.dna.primary_assembly.reordered.fa'\n",
    "# THOUSAND_GENOMES_VCF = '/gscmnt/gc2508/dinglab/estorrs/ancestry/data/hg38/all.coding.sorted.02maf.snps.vcf'\n",
    "# THOUSAND_GENOMES_BED = '/gscmnt/gc2508/dinglab/estorrs/ancestry/data/hg38/all.coding.sorted.02maf.snps.bed'\n"
   ]
  },
  {
   "cell_type": "code",
   "execution_count": 6,
   "metadata": {},
   "outputs": [],
   "source": [
    "run_name = 'gbm/09_13_2019'\n",
    "run_name = 'gbm/09_13_2019'\n",
    "\n",
    "THOUSAND_GENOMES_PANEL = '/gscmnt/gc2508/dinglab/estorrs/ancestry/data/integrated_call_samples_v3.20130502.ALL.panel'\n",
    "\n",
    "EXECUTION_DIRECTORY = f'/gscmnt/gc2508/dinglab/estorrs/cptac3/ancestry_execution/{run_name}'\n",
    "INPUT_BAMS_FOLDER = f'/gscmnt/gc2508/dinglab/estorrs/cptac3/data/{run_name}/bams'\n",
    "\n",
    "THOUSAND_GENOMES_VCF = '/gscmnt/gc2508/dinglab/estorrs/ancestry/data/hg38/all.coding.sorted.02maf.snps.chr.vcf'\n",
    "THOUSAND_GENOMES_BED = '/gscmnt/gc2508/dinglab/estorrs/ancestry/data/hg38/all.coding.sorted.02maf.snps.chr.bed'\n",
    "REFERENCE_FASTA = '/gscmnt/gc2686/rna_editing/data/reference/gdc/GRCh38.d1.vd1.fa'\n",
    "\n",
    "# THOUSAND_GENOMES_VCF = '/gscmnt/gc2508/dinglab/estorrs/ancestry/data/hg19/all.coding.sorted.02maf.snps.vcf'\n",
    "# THOUSAND_GENOMES_BED = '/gscmnt/gc2508/dinglab/estorrs/ancestry/data/hg19/all.coding.sorted.02maf.snps.bed'\n",
    "# REFERENCE_FASTA = '/gscmnt/gc2508/dinglab/estorrs/data/references/hg19/Homo_sapiens_assembly19.fasta'\n",
    "\n",
    "# THOUSAND_GENOMES_VCF = '/gscmnt/gc2508/dinglab/estorrs/ancestry/data/hg19/all.coding.sorted.02maf.snps.chr.vcf'\n",
    "# THOUSAND_GENOMES_BED = '/gscmnt/gc2508/dinglab/estorrs/ancestry/data/hg19/all.coding.sorted.02maf.snps.chr.bed'\n",
    "# REFERENCE_FASTA = '/gscmnt/gc2686/rna_editing/data/reference/ucsc/ucsc.hg19.fa'\n"
   ]
  },
  {
   "cell_type": "code",
   "execution_count": 3,
   "metadata": {},
   "outputs": [],
   "source": [
    "# THOUSAND_GENOMES_PANEL = '/gscmnt/gc2508/dinglab/estorrs/ancestry/data/integrated_call_samples_v3.20130502.ALL.panel'\n",
    "\n",
    "# EXECUTION_DIRECTORY = '/gscmnt/gc2508/dinglab/estorrs/fernanda/01132020/execution'\n",
    "# INPUT_BAMS_FOLDER = '/gscmnt/gc2508/dinglab/estorrs/fernanda/01132020/bams'\n",
    "\n",
    "# THOUSAND_GENOMES_VCF = '/gscmnt/gc2508/dinglab/estorrs/ancestry/data/hg38/all.coding.sorted.02maf.snps.vcf'\n",
    "# THOUSAND_GENOMES_BED = '/gscmnt/gc2508/dinglab/estorrs/ancestry/data/hg38/all.coding.sorted.02maf.snps.bed'\n",
    "# REFERENCE_FASTA = '/gscmnt/gc2737/ding/fernanda/Germline_MMY/FamilialMM/ReferenceFiles/Homo_sapiens.GRCh38.dna.primary_assembly.fa'\n",
    "\n"
   ]
  },
  {
   "cell_type": "code",
   "execution_count": 13,
   "metadata": {},
   "outputs": [],
   "source": [
    "THOUSAND_GENOMES_PANEL = '/gscmnt/gc2508/dinglab/estorrs/ancestry/data/integrated_call_samples_v3.20130502.ALL.panel'\n",
    "\n",
    "EXECUTION_DIRECTORY = f'/gscmnt/gc2508/dinglab/estorrs/ancestry/executions/01132020/execution/'\n",
    "INPUT_BAMS_FOLDER = f'/gscmnt/gc2508/dinglab/estorrs/ancestry/executions/01132020/bams'\n",
    "\n",
    "THOUSAND_GENOMES_VCF = '/gscmnt/gc2508/dinglab/estorrs/ancestry/data/hg38/all.coding.sorted.02maf.snps.chr.vcf'\n",
    "THOUSAND_GENOMES_BED = '/gscmnt/gc2508/dinglab/estorrs/ancestry/data/hg38/all.coding.sorted.02maf.snps.chr.bed'\n",
    "REFERENCE_FASTA = '/gscmnt/gc2686/rna_editing/data/reference/gdc/GRCh38.d1.vd1.fa'"
   ]
  },
  {
   "cell_type": "code",
   "execution_count": 2,
   "metadata": {},
   "outputs": [],
   "source": [
    "THOUSAND_GENOMES_PANEL = '/gscmnt/gc2508/dinglab/estorrs/ancestry/data/integrated_call_samples_v3.20130502.ALL.panel'\n",
    "\n",
    "EXECUTION_DIRECTORY = f'/gscmnt/gc2508/dinglab/estorrs/ancestry/executions/cptac3_lscc/'\n",
    "INPUT_BAMS_FOLDER = f'/gscmnt/gc2508/dinglab/estorrs/ancestry/executions/cptac3_lscc/bams'\n",
    "\n",
    "THOUSAND_GENOMES_VCF = '/gscmnt/gc2508/dinglab/estorrs/ancestry/data/hg38/all.coding.sorted.02maf.snps.chr.vcf'\n",
    "THOUSAND_GENOMES_BED = '/gscmnt/gc2508/dinglab/estorrs/ancestry/data/hg38/all.coding.sorted.02maf.snps.chr.bed'\n",
    "REFERENCE_FASTA = '/gscmnt/gc2686/rna_editing/data/reference/gdc/GRCh38.d1.vd1.fa'"
   ]
  },
  {
   "cell_type": "code",
   "execution_count": 14,
   "metadata": {},
   "outputs": [],
   "source": [
    "THOUSAND_GENOMES_PANEL = '/gscmnt/gc2508/dinglab/estorrs/ancestry/data/integrated_call_samples_v3.20130502.ALL.panel'\n",
    "\n",
    "EXECUTION_DIRECTORY = f'/gscmnt/gc2508/dinglab/estorrs/sandbox/fernanda/ancestry_execution'\n",
    "INPUT_BAMS_FOLDER = f'/gscmnt/gc2508/dinglab/estorrs/sandbox/fernanda/ancestry_execution/data'\n",
    "\n",
    "THOUSAND_GENOMES_VCF = '/gscmnt/gc2508/dinglab/estorrs/ancestry/data/hg19/all.coding.sorted.02maf.snps.vcf'\n",
    "THOUSAND_GENOMES_BED = '/gscmnt/gc2508/dinglab/estorrs/ancestry/data/hg19/all.coding.sorted.02maf.snps.bed'\n",
    "\n",
    "REFERENCE_FASTA = '/gscmnt/gc2508/dinglab/estorrs/data/references/hg19/Homo_sapiens_assembly19.fasta'"
   ]
  },
  {
   "cell_type": "markdown",
   "metadata": {},
   "source": [
    "## slate"
   ]
  },
  {
   "cell_type": "code",
   "execution_count": 3,
   "metadata": {},
   "outputs": [],
   "source": [
    "os.mkdir(os.path.join(EXECUTION_DIRECTORY, 'slate'))\n",
    "os.mkdir(os.path.join(EXECUTION_DIRECTORY, 'slate', 'results'))\n",
    "os.mkdir(os.path.join(EXECUTION_DIRECTORY, 'slate', 'logs'))"
   ]
  },
  {
   "cell_type": "code",
   "execution_count": 4,
   "metadata": {},
   "outputs": [
    {
     "data": {
      "text/plain": [
       "(113,\n",
       " [('C3L-03965',\n",
       "   '/gscmnt/gc2508/dinglab/estorrs/ancestry/executions/cptac3_lscc/bams/C3L-03965.bam'),\n",
       "  ('C3L-02130',\n",
       "   '/gscmnt/gc2508/dinglab/estorrs/ancestry/executions/cptac3_lscc/bams/C3L-02130.bam'),\n",
       "  ('C3N-02375',\n",
       "   '/gscmnt/gc2508/dinglab/estorrs/ancestry/executions/cptac3_lscc/bams/C3N-02375.bam'),\n",
       "  ('C3L-02665',\n",
       "   '/gscmnt/gc2508/dinglab/estorrs/ancestry/executions/cptac3_lscc/bams/C3L-02665.bam'),\n",
       "  ('C3N-03076',\n",
       "   '/gscmnt/gc2508/dinglab/estorrs/ancestry/executions/cptac3_lscc/bams/C3N-03076.bam')])"
      ]
     },
     "execution_count": 4,
     "metadata": {},
     "output_type": "execute_result"
    }
   ],
   "source": [
    "fps = [(fp.split('/')[-1].replace('.bam', ''), os.path.join(INPUT_BAMS_FOLDER, fp))\n",
    "       for fp in os.listdir(INPUT_BAMS_FOLDER)\n",
    "        if not fp[-4:] == '.bai']\n",
    "len(fps), fps[:5]"
   ]
  },
  {
   "cell_type": "code",
   "execution_count": 5,
   "metadata": {},
   "outputs": [],
   "source": [
    "def get_slate_command(input_bam_fp, readcount_fp, trimmed_bam_fp):\n",
    "    return f'python /slate/slate/slate.py --min-base-quality 20 --min-mapping-quality 20 \\\n",
    "--fasta {REFERENCE_FASTA} --positions {THOUSAND_GENOMES_BED} \\\n",
    "--readcount-output {readcount_fp} --filtered-bam-output {trimmed_bam_fp} {input_bam_fp}'"
   ]
  },
  {
   "cell_type": "code",
   "execution_count": 6,
   "metadata": {},
   "outputs": [],
   "source": [
    "slate_image = 'estorrs/slate:0.0.2'\n",
    "\n",
    "commands, log_files = [], []\n",
    "for s_id, fp in fps:\n",
    "\n",
    "    command = get_slate_command(fp,\n",
    "                                os.path.join(EXECUTION_DIRECTORY, 'slate', 'results', s_id + '.readcount'),\n",
    "                                os.path.join(EXECUTION_DIRECTORY, 'slate', 'results', s_id + '.filtered.bam'))\n",
    "    log_fp = os.path.join(EXECUTION_DIRECTORY, 'slate', 'logs', s_id + '.log')\n",
    "\n",
    "    commands.append(command)\n",
    "    log_files.append(log_fp)\n",
    "        \n",
    "bsub.generate_bsub_bash_script(commands, slate_image, os.path.join(EXECUTION_DIRECTORY, 'slate', 'commands.sh'),\n",
    "                              min_memory=4, max_memory=5, log_files=log_files)"
   ]
  },
  {
   "cell_type": "markdown",
   "metadata": {},
   "source": [
    "## run genotype caller"
   ]
  },
  {
   "cell_type": "code",
   "execution_count": 3,
   "metadata": {},
   "outputs": [],
   "source": [
    "os.mkdir(os.path.join(EXECUTION_DIRECTORY, 'genotype_calling'))\n",
    "os.mkdir(os.path.join(EXECUTION_DIRECTORY, 'genotype_calling', 'results'))\n",
    "os.mkdir(os.path.join(EXECUTION_DIRECTORY, 'genotype_calling', 'logs'))"
   ]
  },
  {
   "cell_type": "code",
   "execution_count": 4,
   "metadata": {},
   "outputs": [],
   "source": [
    "def get_genotype_calling_command(readcount_dir, output_fp):\n",
    "    return f'python  /gscmnt/gc2508/dinglab/estorrs/ancestry/ancestry/readcount_caller.py \\\n",
    "--readcount-dir {readcount_dir} --genomes-vcf {THOUSAND_GENOMES_VCF} \\\n",
    "--output {output_fp}'"
   ]
  },
  {
   "cell_type": "code",
   "execution_count": 5,
   "metadata": {},
   "outputs": [],
   "source": [
    "command = get_genotype_calling_command(\n",
    "        os.path.join(EXECUTION_DIRECTORY, 'slate', 'results'),\n",
    "        os.path.join(EXECUTION_DIRECTORY, 'genotype_calling', 'results', 'output.vcf'))\n",
    "log_fp = os.path.join(EXECUTION_DIRECTORY, 'genotype_calling', 'logs', 'output.log')\n",
    "\n",
    "bsub.generate_bsub_bash_script([command], 'amancevice/pandas',\n",
    "                               os.path.join(EXECUTION_DIRECTORY, 'genotype_calling', 'commands.sh'),\n",
    "                              min_memory=100, max_memory=100, log_files=[log_fp])"
   ]
  },
  {
   "cell_type": "markdown",
   "metadata": {},
   "source": [
    "### run ancestry prediction analysis"
   ]
  },
  {
   "cell_type": "code",
   "execution_count": 7,
   "metadata": {},
   "outputs": [],
   "source": [
    "# THOUSAND_GENOMES_VCF = '/gscmnt/gc2508/dinglab/estorrs/ancestry/data/hg19/all.coding.sorted.02maf.snps.vcf'\n",
    "# THOUSAND_GENOMES_BED = '/gscmnt/gc2508/dinglab/estorrs/ancestry/data/hg19/all.coding.sorted.02maf.snps.bed'\n",
    "# REFERENCE_FASTA = '/gscmnt/gc2508/dinglab/estorrs/data/references/hg19/Homo_sapiens_assembly19.fasta'\n",
    "\n",
    "# EXECUTION_DIRECTORY = '/gscmnt/gc2508/dinglab/estorrs/sandbox/yize/ancestry_execution/'"
   ]
  },
  {
   "cell_type": "code",
   "execution_count": 6,
   "metadata": {},
   "outputs": [],
   "source": [
    "os.mkdir(os.path.join(EXECUTION_DIRECTORY, 'ancestry_prediction'))\n",
    "os.mkdir(os.path.join(EXECUTION_DIRECTORY, 'ancestry_prediction', 'results'))\n",
    "os.mkdir(os.path.join(EXECUTION_DIRECTORY, 'ancestry_prediction', 'logs'))"
   ]
  },
  {
   "cell_type": "code",
   "execution_count": 7,
   "metadata": {},
   "outputs": [],
   "source": [
    "def get_ancestry_prediction_command(output_dir, sample_vcf_fp):\n",
    "    return f'python  /gscmnt/gc2508/dinglab/estorrs/ancestry/ancestry/ancestry_cli.py \\\n",
    "--output-dir {output_dir} {THOUSAND_GENOMES_VCF} {THOUSAND_GENOMES_PANEL} {sample_vcf_fp}'"
   ]
  },
  {
   "cell_type": "code",
   "execution_count": 8,
   "metadata": {},
   "outputs": [],
   "source": [
    "command = get_ancestry_prediction_command(\n",
    "        os.path.join(EXECUTION_DIRECTORY, 'ancestry_prediction', 'results'),\n",
    "        os.path.join(EXECUTION_DIRECTORY, 'genotype_calling', 'results', 'output.vcf'))\n",
    "#         os.path.join(EXECUTION_DIRECTORY, 'vcf', 'samples.vcf'))\n",
    "log_fp = os.path.join(EXECUTION_DIRECTORY, 'ancestry_prediction', 'logs', 'output.log')\n",
    "\n",
    "bsub.generate_bsub_bash_script([command], 'amancevice/pandas',\n",
    "                               os.path.join(EXECUTION_DIRECTORY, 'ancestry_prediction', 'commands.sh'),\n",
    "                              min_memory=100, max_memory=100, log_files=[log_fp])"
   ]
  },
  {
   "cell_type": "code",
   "execution_count": null,
   "metadata": {},
   "outputs": [],
   "source": []
  }
 ],
 "metadata": {
  "kernelspec": {
   "display_name": "Python 3",
   "language": "python",
   "name": "python3"
  },
  "language_info": {
   "codemirror_mode": {
    "name": "ipython",
    "version": 3
   },
   "file_extension": ".py",
   "mimetype": "text/x-python",
   "name": "python",
   "nbconvert_exporter": "python",
   "pygments_lexer": "ipython3",
   "version": "3.7.3"
  }
 },
 "nbformat": 4,
 "nbformat_minor": 2
}
